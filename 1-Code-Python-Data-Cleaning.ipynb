{
 "cells": [
  {
   "cell_type": "markdown",
   "id": "27dd59ea-6add-4583-9280-c56cf18d2698",
   "metadata": {},
   "source": [
    "<center><h2>Python Programming</h2></center>\n",
    "<center><h2>[Data Cleaning and Pre-Processing]</h2></center>"
   ]
  },
  {
   "cell_type": "markdown",
   "id": "65f90afa-6564-4081-b780-e5c9f0ec99b2",
   "metadata": {},
   "source": [
    "### Import libraries"
   ]
  },
  {
   "cell_type": "code",
   "execution_count": 1,
   "id": "90abfbdf-0155-4fcf-9223-21cacf93a032",
   "metadata": {},
   "outputs": [],
   "source": [
    "import numpy as np\n",
    "import pandas as pd\n",
    "from sklearn.preprocessing import LabelEncoder\n",
    "import matplotlib.pyplot as plt\n",
    "import descartes\n",
    "import geopandas as gpd\n",
    "from shapely.geometry import Point, Polygon\n",
    "from latlon_utils import get_country, get_climate"
   ]
  },
  {
   "cell_type": "markdown",
   "id": "a35f759f-208f-464a-87b4-463fbf7c515c",
   "metadata": {},
   "source": [
    "## Load dataset"
   ]
  },
  {
   "cell_type": "code",
   "execution_count": 2,
   "id": "07fa73dd-b7b9-444d-bba8-8ce1d2dbe908",
   "metadata": {},
   "outputs": [
    {
     "name": "stderr",
     "output_type": "stream",
     "text": [
      "/tmp/ipykernel_89667/1428607120.py:1: DtypeWarning: Columns (1,4,5,6,7,8,10,11,12,15,16,17,21,22,23,24,25,26,28,29,30,31,32,33,34,35,36,40,41,42,43,44,45,46,47,48,49,56,57,58,59,60,61,62,63,64,65,66,67,69,70,73,74,75,76,113,114,115,116,117,118,119,123) have mixed types. Specify dtype option on import or set low_memory=False.\n",
      "  df_load = pd.read_csv(\"carob_fertilizer_cc/carob_fertilizer-cc.csv\", delimiter=\",\", encoding=\"ISO-8859-1\", header=0)\n"
     ]
    }
   ],
   "source": [
    "df_load = pd.read_csv(\"carob_fertilizer_cc/carob_fertilizer-cc.csv\", delimiter=\",\", encoding=\"ISO-8859-1\", header=0)"
   ]
  },
  {
   "cell_type": "code",
   "execution_count": 3,
   "id": "cae1fa8f-760f-4867-b853-cf9b8a9c121e",
   "metadata": {},
   "outputs": [
    {
     "data": {
      "text/html": [
       "<div>\n",
       "<style scoped>\n",
       "    .dataframe tbody tr th:only-of-type {\n",
       "        vertical-align: middle;\n",
       "    }\n",
       "\n",
       "    .dataframe tbody tr th {\n",
       "        vertical-align: top;\n",
       "    }\n",
       "\n",
       "    .dataframe thead th {\n",
       "        text-align: right;\n",
       "    }\n",
       "</style>\n",
       "<table border=\"1\" class=\"dataframe\">\n",
       "  <thead>\n",
       "    <tr style=\"text-align: right;\">\n",
       "      <th></th>\n",
       "      <th>record_id</th>\n",
       "      <th>latitude</th>\n",
       "      <th>elevation</th>\n",
       "      <th>transplanting_date</th>\n",
       "      <th>flowering_date</th>\n",
       "      <th>maturity_date</th>\n",
       "      <th>dmy_total</th>\n",
       "      <th>dmy_residue</th>\n",
       "      <th>B_fertilizer</th>\n",
       "      <th>Ca_fertilizer</th>\n",
       "      <th>...</th>\n",
       "      <th>soil_Mn</th>\n",
       "      <th>soil_Fe</th>\n",
       "      <th>soil_Zn</th>\n",
       "      <th>soil_Na</th>\n",
       "      <th>soil_EC</th>\n",
       "      <th>soil_ECEC</th>\n",
       "      <th>soil_color</th>\n",
       "      <th>soil_depth</th>\n",
       "      <th>soil_constraint</th>\n",
       "      <th>soil_ex_acidity</th>\n",
       "    </tr>\n",
       "  </thead>\n",
       "  <tbody>\n",
       "    <tr>\n",
       "      <th>count</th>\n",
       "      <td>4594.000000</td>\n",
       "      <td>97033.000000</td>\n",
       "      <td>13301.000000</td>\n",
       "      <td>0.0</td>\n",
       "      <td>0.0</td>\n",
       "      <td>0.0</td>\n",
       "      <td>8584.000000</td>\n",
       "      <td>258.000000</td>\n",
       "      <td>16783.000000</td>\n",
       "      <td>14007.000000</td>\n",
       "      <td>...</td>\n",
       "      <td>0.0</td>\n",
       "      <td>741.000000</td>\n",
       "      <td>1961.000000</td>\n",
       "      <td>0.0</td>\n",
       "      <td>0.0</td>\n",
       "      <td>0.0</td>\n",
       "      <td>0.0</td>\n",
       "      <td>804.000000</td>\n",
       "      <td>0.0</td>\n",
       "      <td>0.0</td>\n",
       "    </tr>\n",
       "    <tr>\n",
       "      <th>mean</th>\n",
       "      <td>2091.655855</td>\n",
       "      <td>2.697843</td>\n",
       "      <td>1075.705097</td>\n",
       "      <td>NaN</td>\n",
       "      <td>NaN</td>\n",
       "      <td>NaN</td>\n",
       "      <td>1530.641870</td>\n",
       "      <td>2354.683042</td>\n",
       "      <td>13.865885</td>\n",
       "      <td>3.266081</td>\n",
       "      <td>...</td>\n",
       "      <td>NaN</td>\n",
       "      <td>20.753266</td>\n",
       "      <td>1.965977</td>\n",
       "      <td>NaN</td>\n",
       "      <td>NaN</td>\n",
       "      <td>NaN</td>\n",
       "      <td>NaN</td>\n",
       "      <td>41.095771</td>\n",
       "      <td>NaN</td>\n",
       "      <td>NaN</td>\n",
       "    </tr>\n",
       "    <tr>\n",
       "      <th>std</th>\n",
       "      <td>1310.243538</td>\n",
       "      <td>12.605920</td>\n",
       "      <td>1643.622370</td>\n",
       "      <td>NaN</td>\n",
       "      <td>NaN</td>\n",
       "      <td>NaN</td>\n",
       "      <td>4245.904331</td>\n",
       "      <td>1073.246565</td>\n",
       "      <td>32.502688</td>\n",
       "      <td>13.008340</td>\n",
       "      <td>...</td>\n",
       "      <td>NaN</td>\n",
       "      <td>24.978619</td>\n",
       "      <td>3.868295</td>\n",
       "      <td>NaN</td>\n",
       "      <td>NaN</td>\n",
       "      <td>NaN</td>\n",
       "      <td>NaN</td>\n",
       "      <td>17.729657</td>\n",
       "      <td>NaN</td>\n",
       "      <td>NaN</td>\n",
       "    </tr>\n",
       "    <tr>\n",
       "      <th>min</th>\n",
       "      <td>1.000000</td>\n",
       "      <td>-38.148140</td>\n",
       "      <td>-9999.000000</td>\n",
       "      <td>NaN</td>\n",
       "      <td>NaN</td>\n",
       "      <td>NaN</td>\n",
       "      <td>0.000000</td>\n",
       "      <td>114.000000</td>\n",
       "      <td>0.000000</td>\n",
       "      <td>0.000000</td>\n",
       "      <td>...</td>\n",
       "      <td>NaN</td>\n",
       "      <td>0.650000</td>\n",
       "      <td>0.020000</td>\n",
       "      <td>NaN</td>\n",
       "      <td>NaN</td>\n",
       "      <td>NaN</td>\n",
       "      <td>NaN</td>\n",
       "      <td>0.000000</td>\n",
       "      <td>NaN</td>\n",
       "      <td>NaN</td>\n",
       "    </tr>\n",
       "    <tr>\n",
       "      <th>25%</th>\n",
       "      <td>933.250000</td>\n",
       "      <td>-3.430000</td>\n",
       "      <td>1142.000000</td>\n",
       "      <td>NaN</td>\n",
       "      <td>NaN</td>\n",
       "      <td>NaN</td>\n",
       "      <td>45.180000</td>\n",
       "      <td>1612.126770</td>\n",
       "      <td>0.000000</td>\n",
       "      <td>0.000000</td>\n",
       "      <td>...</td>\n",
       "      <td>NaN</td>\n",
       "      <td>4.600000</td>\n",
       "      <td>0.490000</td>\n",
       "      <td>NaN</td>\n",
       "      <td>NaN</td>\n",
       "      <td>NaN</td>\n",
       "      <td>NaN</td>\n",
       "      <td>25.000000</td>\n",
       "      <td>NaN</td>\n",
       "      <td>NaN</td>\n",
       "    </tr>\n",
       "    <tr>\n",
       "      <th>50%</th>\n",
       "      <td>2081.500000</td>\n",
       "      <td>5.291220</td>\n",
       "      <td>1388.000000</td>\n",
       "      <td>NaN</td>\n",
       "      <td>NaN</td>\n",
       "      <td>NaN</td>\n",
       "      <td>117.955000</td>\n",
       "      <td>2324.500000</td>\n",
       "      <td>0.000000</td>\n",
       "      <td>0.000000</td>\n",
       "      <td>...</td>\n",
       "      <td>NaN</td>\n",
       "      <td>8.800000</td>\n",
       "      <td>0.900000</td>\n",
       "      <td>NaN</td>\n",
       "      <td>NaN</td>\n",
       "      <td>NaN</td>\n",
       "      <td>NaN</td>\n",
       "      <td>39.500000</td>\n",
       "      <td>NaN</td>\n",
       "      <td>NaN</td>\n",
       "    </tr>\n",
       "    <tr>\n",
       "      <th>75%</th>\n",
       "      <td>3229.750000</td>\n",
       "      <td>10.526100</td>\n",
       "      <td>1502.000000</td>\n",
       "      <td>NaN</td>\n",
       "      <td>NaN</td>\n",
       "      <td>NaN</td>\n",
       "      <td>1250.000000</td>\n",
       "      <td>3079.000000</td>\n",
       "      <td>0.000000</td>\n",
       "      <td>0.000000</td>\n",
       "      <td>...</td>\n",
       "      <td>NaN</td>\n",
       "      <td>41.070000</td>\n",
       "      <td>1.900000</td>\n",
       "      <td>NaN</td>\n",
       "      <td>NaN</td>\n",
       "      <td>NaN</td>\n",
       "      <td>NaN</td>\n",
       "      <td>60.000000</td>\n",
       "      <td>NaN</td>\n",
       "      <td>NaN</td>\n",
       "    </tr>\n",
       "    <tr>\n",
       "      <th>max</th>\n",
       "      <td>4378.000000</td>\n",
       "      <td>52.214000</td>\n",
       "      <td>2674.699951</td>\n",
       "      <td>NaN</td>\n",
       "      <td>NaN</td>\n",
       "      <td>NaN</td>\n",
       "      <td>80721.000000</td>\n",
       "      <td>5675.481648</td>\n",
       "      <td>150.000000</td>\n",
       "      <td>80.000000</td>\n",
       "      <td>...</td>\n",
       "      <td>NaN</td>\n",
       "      <td>133.000000</td>\n",
       "      <td>27.990000</td>\n",
       "      <td>NaN</td>\n",
       "      <td>NaN</td>\n",
       "      <td>NaN</td>\n",
       "      <td>NaN</td>\n",
       "      <td>80.000000</td>\n",
       "      <td>NaN</td>\n",
       "      <td>NaN</td>\n",
       "    </tr>\n",
       "  </tbody>\n",
       "</table>\n",
       "<p>8 rows × 74 columns</p>\n",
       "</div>"
      ],
      "text/plain": [
       "         record_id      latitude     elevation  transplanting_date  \\\n",
       "count  4594.000000  97033.000000  13301.000000                 0.0   \n",
       "mean   2091.655855      2.697843   1075.705097                 NaN   \n",
       "std    1310.243538     12.605920   1643.622370                 NaN   \n",
       "min       1.000000    -38.148140  -9999.000000                 NaN   \n",
       "25%     933.250000     -3.430000   1142.000000                 NaN   \n",
       "50%    2081.500000      5.291220   1388.000000                 NaN   \n",
       "75%    3229.750000     10.526100   1502.000000                 NaN   \n",
       "max    4378.000000     52.214000   2674.699951                 NaN   \n",
       "\n",
       "       flowering_date  maturity_date     dmy_total  dmy_residue  B_fertilizer  \\\n",
       "count             0.0            0.0   8584.000000   258.000000  16783.000000   \n",
       "mean              NaN            NaN   1530.641870  2354.683042     13.865885   \n",
       "std               NaN            NaN   4245.904331  1073.246565     32.502688   \n",
       "min               NaN            NaN      0.000000   114.000000      0.000000   \n",
       "25%               NaN            NaN     45.180000  1612.126770      0.000000   \n",
       "50%               NaN            NaN    117.955000  2324.500000      0.000000   \n",
       "75%               NaN            NaN   1250.000000  3079.000000      0.000000   \n",
       "max               NaN            NaN  80721.000000  5675.481648    150.000000   \n",
       "\n",
       "       Ca_fertilizer  ...  soil_Mn     soil_Fe      soil_Zn  soil_Na  soil_EC  \\\n",
       "count   14007.000000  ...      0.0  741.000000  1961.000000      0.0      0.0   \n",
       "mean        3.266081  ...      NaN   20.753266     1.965977      NaN      NaN   \n",
       "std        13.008340  ...      NaN   24.978619     3.868295      NaN      NaN   \n",
       "min         0.000000  ...      NaN    0.650000     0.020000      NaN      NaN   \n",
       "25%         0.000000  ...      NaN    4.600000     0.490000      NaN      NaN   \n",
       "50%         0.000000  ...      NaN    8.800000     0.900000      NaN      NaN   \n",
       "75%         0.000000  ...      NaN   41.070000     1.900000      NaN      NaN   \n",
       "max        80.000000  ...      NaN  133.000000    27.990000      NaN      NaN   \n",
       "\n",
       "       soil_ECEC  soil_color  soil_depth  soil_constraint  soil_ex_acidity  \n",
       "count        0.0         0.0  804.000000              0.0              0.0  \n",
       "mean         NaN         NaN   41.095771              NaN              NaN  \n",
       "std          NaN         NaN   17.729657              NaN              NaN  \n",
       "min          NaN         NaN    0.000000              NaN              NaN  \n",
       "25%          NaN         NaN   25.000000              NaN              NaN  \n",
       "50%          NaN         NaN   39.500000              NaN              NaN  \n",
       "75%          NaN         NaN   60.000000              NaN              NaN  \n",
       "max          NaN         NaN   80.000000              NaN              NaN  \n",
       "\n",
       "[8 rows x 74 columns]"
      ]
     },
     "execution_count": 3,
     "metadata": {},
     "output_type": "execute_result"
    }
   ],
   "source": [
    "df_load.describe()"
   ]
  },
  {
   "cell_type": "code",
   "execution_count": 4,
   "id": "59ad3f0c-cc61-4029-b741-955c95d71e81",
   "metadata": {},
   "outputs": [
    {
     "data": {
      "text/html": [
       "<div>\n",
       "<style scoped>\n",
       "    .dataframe tbody tr th:only-of-type {\n",
       "        vertical-align: middle;\n",
       "    }\n",
       "\n",
       "    .dataframe tbody tr th {\n",
       "        vertical-align: top;\n",
       "    }\n",
       "\n",
       "    .dataframe thead th {\n",
       "        text-align: right;\n",
       "    }\n",
       "</style>\n",
       "<table border=\"1\" class=\"dataframe\">\n",
       "  <thead>\n",
       "    <tr style=\"text-align: right;\">\n",
       "      <th></th>\n",
       "      <th>dataset_id</th>\n",
       "      <th>trial_id</th>\n",
       "      <th>record_id</th>\n",
       "      <th>country</th>\n",
       "      <th>adm1</th>\n",
       "      <th>adm2</th>\n",
       "      <th>adm3</th>\n",
       "      <th>adm4</th>\n",
       "      <th>adm5</th>\n",
       "      <th>location</th>\n",
       "      <th>...</th>\n",
       "      <th>soil_Mn</th>\n",
       "      <th>soil_Fe</th>\n",
       "      <th>soil_Zn</th>\n",
       "      <th>soil_Na</th>\n",
       "      <th>soil_EC</th>\n",
       "      <th>soil_ECEC</th>\n",
       "      <th>soil_color</th>\n",
       "      <th>soil_depth</th>\n",
       "      <th>soil_constraint</th>\n",
       "      <th>soil_ex_acidity</th>\n",
       "    </tr>\n",
       "  </thead>\n",
       "  <tbody>\n",
       "    <tr>\n",
       "      <th>0</th>\n",
       "      <td>doi_10.18167_DVN1_DLTQWR</td>\n",
       "      <td>1</td>\n",
       "      <td>NaN</td>\n",
       "      <td>Nigeria</td>\n",
       "      <td>NaN</td>\n",
       "      <td>NaN</td>\n",
       "      <td>NaN</td>\n",
       "      <td>NaN</td>\n",
       "      <td>NaN</td>\n",
       "      <td>NaN</td>\n",
       "      <td>...</td>\n",
       "      <td>NaN</td>\n",
       "      <td>NaN</td>\n",
       "      <td>NaN</td>\n",
       "      <td>NaN</td>\n",
       "      <td>NaN</td>\n",
       "      <td>NaN</td>\n",
       "      <td>NaN</td>\n",
       "      <td>NaN</td>\n",
       "      <td>NaN</td>\n",
       "      <td>NaN</td>\n",
       "    </tr>\n",
       "    <tr>\n",
       "      <th>1</th>\n",
       "      <td>doi_10.18167_DVN1_DLTQWR</td>\n",
       "      <td>1</td>\n",
       "      <td>NaN</td>\n",
       "      <td>Nigeria</td>\n",
       "      <td>NaN</td>\n",
       "      <td>NaN</td>\n",
       "      <td>NaN</td>\n",
       "      <td>NaN</td>\n",
       "      <td>NaN</td>\n",
       "      <td>NaN</td>\n",
       "      <td>...</td>\n",
       "      <td>NaN</td>\n",
       "      <td>NaN</td>\n",
       "      <td>NaN</td>\n",
       "      <td>NaN</td>\n",
       "      <td>NaN</td>\n",
       "      <td>NaN</td>\n",
       "      <td>NaN</td>\n",
       "      <td>NaN</td>\n",
       "      <td>NaN</td>\n",
       "      <td>NaN</td>\n",
       "    </tr>\n",
       "    <tr>\n",
       "      <th>2</th>\n",
       "      <td>doi_10.18167_DVN1_DLTQWR</td>\n",
       "      <td>1</td>\n",
       "      <td>NaN</td>\n",
       "      <td>Nigeria</td>\n",
       "      <td>NaN</td>\n",
       "      <td>NaN</td>\n",
       "      <td>NaN</td>\n",
       "      <td>NaN</td>\n",
       "      <td>NaN</td>\n",
       "      <td>NaN</td>\n",
       "      <td>...</td>\n",
       "      <td>NaN</td>\n",
       "      <td>NaN</td>\n",
       "      <td>NaN</td>\n",
       "      <td>NaN</td>\n",
       "      <td>NaN</td>\n",
       "      <td>NaN</td>\n",
       "      <td>NaN</td>\n",
       "      <td>NaN</td>\n",
       "      <td>NaN</td>\n",
       "      <td>NaN</td>\n",
       "    </tr>\n",
       "    <tr>\n",
       "      <th>3</th>\n",
       "      <td>doi_10.18167_DVN1_DLTQWR</td>\n",
       "      <td>1</td>\n",
       "      <td>NaN</td>\n",
       "      <td>Nigeria</td>\n",
       "      <td>NaN</td>\n",
       "      <td>NaN</td>\n",
       "      <td>NaN</td>\n",
       "      <td>NaN</td>\n",
       "      <td>NaN</td>\n",
       "      <td>NaN</td>\n",
       "      <td>...</td>\n",
       "      <td>NaN</td>\n",
       "      <td>NaN</td>\n",
       "      <td>NaN</td>\n",
       "      <td>NaN</td>\n",
       "      <td>NaN</td>\n",
       "      <td>NaN</td>\n",
       "      <td>NaN</td>\n",
       "      <td>NaN</td>\n",
       "      <td>NaN</td>\n",
       "      <td>NaN</td>\n",
       "    </tr>\n",
       "    <tr>\n",
       "      <th>4</th>\n",
       "      <td>doi_10.18167_DVN1_DLTQWR</td>\n",
       "      <td>1</td>\n",
       "      <td>NaN</td>\n",
       "      <td>Nigeria</td>\n",
       "      <td>NaN</td>\n",
       "      <td>NaN</td>\n",
       "      <td>NaN</td>\n",
       "      <td>NaN</td>\n",
       "      <td>NaN</td>\n",
       "      <td>NaN</td>\n",
       "      <td>...</td>\n",
       "      <td>NaN</td>\n",
       "      <td>NaN</td>\n",
       "      <td>NaN</td>\n",
       "      <td>NaN</td>\n",
       "      <td>NaN</td>\n",
       "      <td>NaN</td>\n",
       "      <td>NaN</td>\n",
       "      <td>NaN</td>\n",
       "      <td>NaN</td>\n",
       "      <td>NaN</td>\n",
       "    </tr>\n",
       "  </tbody>\n",
       "</table>\n",
       "<p>5 rows × 142 columns</p>\n",
       "</div>"
      ],
      "text/plain": [
       "                 dataset_id trial_id  record_id  country adm1 adm2 adm3 adm4  \\\n",
       "0  doi_10.18167_DVN1_DLTQWR        1        NaN  Nigeria  NaN  NaN  NaN  NaN   \n",
       "1  doi_10.18167_DVN1_DLTQWR        1        NaN  Nigeria  NaN  NaN  NaN  NaN   \n",
       "2  doi_10.18167_DVN1_DLTQWR        1        NaN  Nigeria  NaN  NaN  NaN  NaN   \n",
       "3  doi_10.18167_DVN1_DLTQWR        1        NaN  Nigeria  NaN  NaN  NaN  NaN   \n",
       "4  doi_10.18167_DVN1_DLTQWR        1        NaN  Nigeria  NaN  NaN  NaN  NaN   \n",
       "\n",
       "  adm5 location  ... soil_Mn soil_Fe soil_Zn  soil_Na  soil_EC soil_ECEC  \\\n",
       "0  NaN      NaN  ...     NaN     NaN     NaN      NaN      NaN       NaN   \n",
       "1  NaN      NaN  ...     NaN     NaN     NaN      NaN      NaN       NaN   \n",
       "2  NaN      NaN  ...     NaN     NaN     NaN      NaN      NaN       NaN   \n",
       "3  NaN      NaN  ...     NaN     NaN     NaN      NaN      NaN       NaN   \n",
       "4  NaN      NaN  ...     NaN     NaN     NaN      NaN      NaN       NaN   \n",
       "\n",
       "  soil_color soil_depth  soil_constraint  soil_ex_acidity  \n",
       "0        NaN        NaN              NaN              NaN  \n",
       "1        NaN        NaN              NaN              NaN  \n",
       "2        NaN        NaN              NaN              NaN  \n",
       "3        NaN        NaN              NaN              NaN  \n",
       "4        NaN        NaN              NaN              NaN  \n",
       "\n",
       "[5 rows x 142 columns]"
      ]
     },
     "execution_count": 4,
     "metadata": {},
     "output_type": "execute_result"
    }
   ],
   "source": [
    "df_load.head()"
   ]
  },
  {
   "cell_type": "code",
   "execution_count": 5,
   "id": "e4af5900-cfe5-4b47-83e0-41162ab24f92",
   "metadata": {},
   "outputs": [
    {
     "data": {
      "text/plain": [
       "['dataset_id',\n",
       " 'trial_id',\n",
       " 'record_id',\n",
       " 'country',\n",
       " 'adm1',\n",
       " 'adm2',\n",
       " 'adm3',\n",
       " 'adm4',\n",
       " 'adm5',\n",
       " 'location',\n",
       " 'site',\n",
       " 'reference',\n",
       " 'longitude',\n",
       " 'latitude',\n",
       " 'elevation',\n",
       " 'date',\n",
       " 'planting_date',\n",
       " 'emergence_date',\n",
       " 'transplanting_date',\n",
       " 'flowering_date',\n",
       " 'maturity_date',\n",
       " 'harvest_date',\n",
       " 'season',\n",
       " 'on_farm',\n",
       " 'is_survey',\n",
       " 'treatment',\n",
       " 'rep',\n",
       " 'crop',\n",
       " 'variety',\n",
       " 'variety_code',\n",
       " 'variety_type',\n",
       " 'intercrops',\n",
       " 'previous_crop',\n",
       " 'crop_rotation',\n",
       " 'dmy_roots',\n",
       " 'dmy_stems',\n",
       " 'dmy_storage',\n",
       " 'dmy_total',\n",
       " 'dmy_residue',\n",
       " 'yield_part',\n",
       " 'yield',\n",
       " 'residue_yield',\n",
       " 'grain_weight',\n",
       " 'fertilizer_type',\n",
       " 'N_fertilizer',\n",
       " 'N_splits',\n",
       " 'P_fertilizer',\n",
       " 'K_fertilizer',\n",
       " 'Zn_fertilizer',\n",
       " 'S_fertilizer',\n",
       " 'B_fertilizer',\n",
       " 'Ca_fertilizer',\n",
       " 'Mg_fertilizer',\n",
       " 'Fe_fertilizer',\n",
       " 'lime',\n",
       " 'gypsum',\n",
       " 'OM_used',\n",
       " 'OM_type',\n",
       " 'OM_amount',\n",
       " 'OM_N',\n",
       " 'OM_P',\n",
       " 'OM_K',\n",
       " 'inoculated',\n",
       " 'inoculant',\n",
       " 'irrigated',\n",
       " 'irrigation_source',\n",
       " 'irrigation_number',\n",
       " 'irrigation_amount',\n",
       " 'irrigation_dates',\n",
       " 'land_prep_method',\n",
       " 'planting_method',\n",
       " 'transplanting_method',\n",
       " 'uncertainty',\n",
       " 'uncertainty_type',\n",
       " 'row_spacing',\n",
       " 'plot_area',\n",
       " 'plant_spacing',\n",
       " 'plant_density',\n",
       " 'rain',\n",
       " 'emergence_days',\n",
       " 'heading_days',\n",
       " 'flowering_days',\n",
       " 'anthesis_days',\n",
       " 'maturity_days',\n",
       " 'harvest_days',\n",
       " 'plant_height',\n",
       " 'nodule_weight',\n",
       " 'leaf_N',\n",
       " 'leaf_K',\n",
       " 'leaf_P',\n",
       " 'leaf_Mg',\n",
       " 'leaf_Ca',\n",
       " 'leaf_Zn',\n",
       " 'grain_N',\n",
       " 'grain_K',\n",
       " 'grain_P',\n",
       " 'grain_Mg',\n",
       " 'grain_Ca',\n",
       " 'grain_Fe',\n",
       " 'grain_Zn',\n",
       " 'grain_Cu',\n",
       " 'grain_Mn',\n",
       " 'grain_Al',\n",
       " 'grain_protein',\n",
       " 'residue_N',\n",
       " 'residue_P',\n",
       " 'season_constraint',\n",
       " 'herbicide_times',\n",
       " 'weeding_times',\n",
       " 'weeding_dates',\n",
       " 'weed_biomass',\n",
       " 'insecticide_times',\n",
       " 'fungicide_times',\n",
       " 'diseases',\n",
       " 'crop_cut',\n",
       " 'soil_type',\n",
       " 'soil_pH',\n",
       " 'soil_pH_CaCl2',\n",
       " 'soil_SOC',\n",
       " 'soil_SOM',\n",
       " 'soil_sand',\n",
       " 'soil_clay',\n",
       " 'soil_silt',\n",
       " 'soil_texture',\n",
       " 'soil_N',\n",
       " 'soil_K',\n",
       " 'soil_P_total',\n",
       " 'soil_P_available',\n",
       " 'soil_P_Mehlich',\n",
       " 'soil_Ca',\n",
       " 'soil_Mg',\n",
       " 'soil_Cu',\n",
       " 'soil_Mn',\n",
       " 'soil_Fe',\n",
       " 'soil_Zn',\n",
       " 'soil_Na',\n",
       " 'soil_EC',\n",
       " 'soil_ECEC',\n",
       " 'soil_color',\n",
       " 'soil_depth',\n",
       " 'soil_constraint',\n",
       " 'soil_ex_acidity']"
      ]
     },
     "execution_count": 5,
     "metadata": {},
     "output_type": "execute_result"
    }
   ],
   "source": [
    "df_load.columns.tolist()"
   ]
  },
  {
   "cell_type": "code",
   "execution_count": 6,
   "id": "f3e590fc-c291-4248-82a9-236cd7084a04",
   "metadata": {},
   "outputs": [
    {
     "data": {
      "text/plain": [
       "(98054, 142)"
      ]
     },
     "execution_count": 6,
     "metadata": {},
     "output_type": "execute_result"
    }
   ],
   "source": [
    "df_load.shape"
   ]
  },
  {
   "cell_type": "code",
   "execution_count": 7,
   "id": "99fba97c-dd54-4f9b-a407-7372e6b24312",
   "metadata": {},
   "outputs": [
    {
     "data": {
      "text/plain": [
       "(98054, 142)"
      ]
     },
     "execution_count": 7,
     "metadata": {},
     "output_type": "execute_result"
    }
   ],
   "source": [
    "df_load.shape"
   ]
  },
  {
   "cell_type": "markdown",
   "id": "b40bdaba-661b-45be-83b3-8be7a49073b4",
   "metadata": {},
   "source": [
    "## Extract data of Nigeria"
   ]
  },
  {
   "cell_type": "code",
   "execution_count": 8,
   "id": "db0f21e4-d138-406e-a9f9-52e12bdf8144",
   "metadata": {},
   "outputs": [],
   "source": [
    "df_nigeria = df_load.loc[df_load['country'] == \"Nigeria\"]"
   ]
  },
  {
   "cell_type": "code",
   "execution_count": 9,
   "id": "cbc5fb38-45c9-4673-9e61-e7e1add24863",
   "metadata": {},
   "outputs": [
    {
     "data": {
      "text/plain": [
       "(27366, 142)"
      ]
     },
     "execution_count": 9,
     "metadata": {},
     "output_type": "execute_result"
    }
   ],
   "source": [
    "df_nigeria.shape"
   ]
  },
  {
   "cell_type": "code",
   "execution_count": 10,
   "id": "8bf55dee-d32e-4834-b14c-bfef59ad41a4",
   "metadata": {},
   "outputs": [
    {
     "data": {
      "text/plain": [
       "0        Nigeria\n",
       "1        Nigeria\n",
       "2        Nigeria\n",
       "3        Nigeria\n",
       "4        Nigeria\n",
       "          ...   \n",
       "89882    Nigeria\n",
       "91861    Nigeria\n",
       "91862    Nigeria\n",
       "91863    Nigeria\n",
       "91864    Nigeria\n",
       "Name: country, Length: 27366, dtype: object"
      ]
     },
     "execution_count": 10,
     "metadata": {},
     "output_type": "execute_result"
    }
   ],
   "source": [
    "df_nigeria['country']"
   ]
  },
  {
   "cell_type": "markdown",
   "id": "65a3db40-08a3-403f-8fc1-b082c2214eb8",
   "metadata": {},
   "source": [
    "## Exploring Data: Crops grown in Nigeria"
   ]
  },
  {
   "cell_type": "code",
   "execution_count": 11,
   "id": "f020655d-6c6e-4108-8c02-14630961f0d5",
   "metadata": {},
   "outputs": [
    {
     "data": {
      "text/plain": [
       "0        sorghum\n",
       "1        sorghum\n",
       "2        sorghum\n",
       "3        sorghum\n",
       "4        sorghum\n",
       "          ...   \n",
       "89882      maize\n",
       "91861      maize\n",
       "91862      maize\n",
       "91863      maize\n",
       "91864      maize\n",
       "Name: crop, Length: 27366, dtype: object"
      ]
     },
     "execution_count": 11,
     "metadata": {},
     "output_type": "execute_result"
    }
   ],
   "source": [
    "df_nigeria['crop']"
   ]
  },
  {
   "cell_type": "code",
   "execution_count": 12,
   "id": "d2bbf76e-d4ae-427b-89d4-b0d5bf1c6497",
   "metadata": {},
   "outputs": [],
   "source": [
    "le_crop = LabelEncoder()\n",
    "le_crop.fit(df_nigeria.crop.str.strip())\n",
    "encoded_labels_crops = le_crop.transform(df_nigeria.crop.str.strip())\n",
    "#print(list(le_crop.classes_), \"\\n\" ,np.unique(encoded_labels_crops))\n",
    "\n",
    "#get unique values and counts of each value\n",
    "unique_crop, count_crop = np.unique(df_nigeria.crop.to_numpy(), return_counts=True)"
   ]
  },
  {
   "cell_type": "code",
   "execution_count": 13,
   "id": "4562077b-5270-4ea7-a8b7-bfee0bd13c9e",
   "metadata": {},
   "outputs": [
    {
     "name": "stdout",
     "output_type": "stream",
     "text": [
      "[['cassava' 7831 'cassava']\n",
      " ['chili pepper' 1 'chili pepper']\n",
      " ['common bean' 20 'common bean']\n",
      " ['cotton' 19 'cotton']\n",
      " ['cowpea' 1939 'cowpea']\n",
      " ['finger millet' 90 'finger millet']\n",
      " ['groundnut' 4017 'groundnut']\n",
      " ['maize' 6322 'maize']\n",
      " ['onion' 1 'onion']\n",
      " ['rice' 48 'rice']\n",
      " ['sesame' 10 'sesame']\n",
      " ['sorghum' 398 'sorghum']\n",
      " ['soybean' 6662 'soybean']\n",
      " ['tomato' 5 'tomato']\n",
      " ['yam' 3 'yam']]\n"
     ]
    }
   ],
   "source": [
    "#display unique values and counts side by side\n",
    "print(np.asarray((unique_crop, count_crop, list(le_crop.classes_))).T)"
   ]
  },
  {
   "cell_type": "code",
   "execution_count": 14,
   "id": "582a38a3-79e5-4e38-824d-b117f7a43e74",
   "metadata": {},
   "outputs": [
    {
     "data": {
      "image/png": "[encoded data removed]",
      "text/plain": [
       "<Figure size 1000x500 with 1 Axes>"
      ]
     },
     "metadata": {},
     "output_type": "display_data"
    }
   ],
   "source": [
    "fig = plt.figure(figsize = (10, 5))\n",
    "\n",
    "# creating the bar plot\n",
    "plt.bar(list(le_crop.classes_), count_crop, color ='maroon', width=0.5)\n",
    "plt.xticks(rotation=90)\n",
    "\n",
    "plt.xlabel(\"Names of Crop\")\n",
    "plt.ylabel(\"Number of Crops\")\n",
    "plt.title(\"Crops Grown in Nigeria and their Count\")\n",
    "plt.show()"
   ]
  },
  {
   "cell_type": "markdown",
   "id": "9c55743a-3240-4f19-9083-187f3c026371",
   "metadata": {},
   "source": [
    "## Exploring Data: Subset maize crop data for Nigeria"
   ]
  },
  {
   "cell_type": "code",
   "execution_count": 15,
   "id": "1fc42ede-7d64-405c-8b6a-c0af37690fdc",
   "metadata": {},
   "outputs": [],
   "source": [
    "#subset maize data only\n",
    "df_nigeria_maize = df_nigeria.loc[df_nigeria['crop'] == \"maize\"]"
   ]
  },
  {
   "cell_type": "code",
   "execution_count": 16,
   "id": "263fb774-7dc8-4b85-80b2-18076eb496c3",
   "metadata": {},
   "outputs": [
    {
     "data": {
      "text/plain": [
       "(6322, 142)"
      ]
     },
     "execution_count": 16,
     "metadata": {},
     "output_type": "execute_result"
    }
   ],
   "source": [
    "df_nigeria_maize.shape #Quick check to confirm number of records"
   ]
  },
  {
   "cell_type": "code",
   "execution_count": 17,
   "id": "acd56c4d-5fc9-4252-83f1-3208ba8c538f",
   "metadata": {},
   "outputs": [
    {
     "data": {
      "text/plain": [
       "986"
      ]
     },
     "execution_count": 17,
     "metadata": {},
     "output_type": "execute_result"
    }
   ],
   "source": [
    "len(list(set(df_nigeria_maize.trial_id))) #check number of trials; one trial contain a replicate of data"
   ]
  },
  {
   "cell_type": "code",
   "execution_count": 18,
   "id": "510af5d5-d573-40a8-a6c4-9452cdbc6a99",
   "metadata": {},
   "outputs": [],
   "source": [
    "#df_nigeria_maize.loc[df_nigeria_maize['trial_id'] == \"5\"] #check data on trial number 5"
   ]
  },
  {
   "cell_type": "markdown",
   "id": "61fab009-b6ca-4027-9419-2018fe8f07c1",
   "metadata": {},
   "source": [
    "## Exploring Data: Get each maize trial field geo-positions and map their locations - Nigeria"
   ]
  },
  {
   "cell_type": "code",
   "execution_count": 19,
   "id": "78e778bb-1fbb-4621-b404-cd727f41638c",
   "metadata": {},
   "outputs": [],
   "source": [
    "#df_nigeria_maize.loc[df_nigeria_maize['trial_id'] == \"5\"] #check data on trial number 5"
   ]
  },
  {
   "cell_type": "code",
   "execution_count": 20,
   "id": "276302f5-80dc-47dd-975c-8a5d3b29bb05",
   "metadata": {},
   "outputs": [],
   "source": [
    "#for a in range(len(set(df_nigeria_maize['trial_id']))):\n",
    "\n",
    "df_lat_long = pd.DataFrame()\n",
    "\n",
    "count = 0 \n",
    "for a in range(len(df_nigeria_maize['trial_id'].unique())):\n",
    "    df_trial = df_nigeria_maize.loc[df_nigeria_maize['trial_id'] == df_nigeria_maize['trial_id'].unique()[a]]\n",
    "    if(len(df_trial['longitude'].values) > 0): #contains values\n",
    "        #print(df_trial['trial_id'].values[0], \" \", df_trial['longitude'].values[0], \" \", df_trial['latitude'].values[0])\n",
    "        df_lat_long = pd.concat([df_lat_long, pd.DataFrame({'longitude': df_trial['longitude'].values[0], 'latitude': df_trial['latitude'].values[0]}, index=[count])])\n",
    "        count = count + 1"
   ]
  },
  {
   "cell_type": "code",
   "execution_count": 21,
   "id": "f1b0b683-c896-47f0-9aab-0d785cdf0382",
   "metadata": {},
   "outputs": [
    {
     "data": {
      "text/plain": [
       "(985, 2)"
      ]
     },
     "execution_count": 21,
     "metadata": {},
     "output_type": "execute_result"
    }
   ],
   "source": [
    "df_lat_long.shape"
   ]
  },
  {
   "cell_type": "code",
   "execution_count": 22,
   "id": "969485cb-14b0-4af2-b369-b80a13d55317",
   "metadata": {},
   "outputs": [],
   "source": [
    "#loading Nigeria's shape file\n",
    "nigeria_admin_map = gpd.read_file('SHP/nigeria2/nga_admbnda_adm2_osgof_20170222.shp') #From world bank - https://datacatalog.worldbank.org/search/dataset/0039368/Nigeria---Administrative-Boundaries"
   ]
  },
  {
   "cell_type": "code",
   "execution_count": 23,
   "id": "db7c386a-908c-4005-af2d-0f6a10665067",
   "metadata": {},
   "outputs": [],
   "source": [
    "maize_gdf = gpd.GeoDataFrame(df_lat_long, geometry=gpd.points_from_xy(df_lat_long.longitude, df_lat_long.latitude),crs='4326')"
   ]
  },
  {
   "cell_type": "code",
   "execution_count": 24,
   "id": "b454c5bc-8b6a-43cd-af24-b5c9446e3e27",
   "metadata": {},
   "outputs": [
    {
     "data": {
      "image/png": "[encoded data removed]",
      "text/plain": [
       "<Figure size 640x480 with 1 Axes>"
      ]
     },
     "metadata": {},
     "output_type": "display_data"
    }
   ],
   "source": [
    "base = nigeria_admin_map.plot(color='white', edgecolor='black') #plotting unique data\n",
    "maize_gdf.plot(ax=base, marker='o', color='red', markersize=5);"
   ]
  },
  {
   "cell_type": "markdown",
   "id": "27f2d0b8-949c-4981-b36f-97d6756491cc",
   "metadata": {},
   "source": [
    "## Exploring Data: Understand variables and data in maize trial records in Nigeria"
   ]
  },
  {
   "cell_type": "code",
   "execution_count": 25,
   "id": "e1c20c02-e3aa-4d14-8eed-7c0b9aa3244b",
   "metadata": {},
   "outputs": [
    {
     "data": {
      "text/plain": [
       "(6322, 142)"
      ]
     },
     "execution_count": 25,
     "metadata": {},
     "output_type": "execute_result"
    }
   ],
   "source": [
    "df_nigeria_maize.shape #Check the shape"
   ]
  },
  {
   "cell_type": "code",
   "execution_count": 26,
   "id": "6fa61cd0-3033-49f7-9965-8f0e2251c3cf",
   "metadata": {},
   "outputs": [
    {
     "data": {
      "text/plain": [
       "<bound method NDFrame.describe of                      dataset_id  \\\n",
       "12     doi_10.18167_DVN1_DLTQWR   \n",
       "13     doi_10.18167_DVN1_DLTQWR   \n",
       "14     doi_10.18167_DVN1_DLTQWR   \n",
       "15     doi_10.18167_DVN1_DLTQWR   \n",
       "16     doi_10.18167_DVN1_DLTQWR   \n",
       "...                         ...   \n",
       "89882    doi_10.7910_DVN_UNLRGC   \n",
       "91861    doi_10.7910_DVN_UNLRGC   \n",
       "91862    doi_10.7910_DVN_UNLRGC   \n",
       "91863    doi_10.7910_DVN_UNLRGC   \n",
       "91864    doi_10.7910_DVN_UNLRGC   \n",
       "\n",
       "                                                trial_id  record_id  country  \\\n",
       "12                                                     2        NaN  Nigeria   \n",
       "13                                                     2        NaN  Nigeria   \n",
       "14                                                     2        NaN  Nigeria   \n",
       "15                                                     2        NaN  Nigeria   \n",
       "16                                                     3        NaN  Nigeria   \n",
       "...                                                  ...        ...      ...   \n",
       "89882  MAIIDONTAR FOROMNigeriaBARKINLADIMAIIDONTAR FO...        NaN  Nigeria   \n",
       "91861          PANKSHINNigeriaPANKSHINPANKSHIN1978RAINY1        NaN  Nigeria   \n",
       "91862          PANKSHINNigeriaPANKSHINPANKSHIN1978RAINY1        NaN  Nigeria   \n",
       "91863          PANKSHINNigeriaPANKSHINPANKSHIN1978RAINY1        NaN  Nigeria   \n",
       "91864          PANKSHINNigeriaPANKSHINPANKSHIN1978RAINY1        NaN  Nigeria   \n",
       "\n",
       "             adm1 adm2 adm3 adm4 adm5          location  ... soil_Mn soil_Fe  \\\n",
       "12            NaN  NaN  NaN  NaN  NaN               NaN  ...     NaN     NaN   \n",
       "13            NaN  NaN  NaN  NaN  NaN               NaN  ...     NaN     NaN   \n",
       "14            NaN  NaN  NaN  NaN  NaN               NaN  ...     NaN     NaN   \n",
       "15            NaN  NaN  NaN  NaN  NaN               NaN  ...     NaN     NaN   \n",
       "16            NaN  NaN  NaN  NaN  NaN               NaN  ...     NaN     NaN   \n",
       "...           ...  ...  ...  ...  ...               ...  ...     ...     ...   \n",
       "89882  Barkinladi  NaN  NaN  NaN  NaN  Maiidontar Forom  ...     NaN     NaN   \n",
       "91861    Pankshin  NaN  NaN  NaN  NaN          Pankshin  ...     NaN     NaN   \n",
       "91862    Pankshin  NaN  NaN  NaN  NaN          Pankshin  ...     NaN     NaN   \n",
       "91863    Pankshin  NaN  NaN  NaN  NaN          Pankshin  ...     NaN     NaN   \n",
       "91864    Pankshin  NaN  NaN  NaN  NaN          Pankshin  ...     NaN     NaN   \n",
       "\n",
       "      soil_Zn  soil_Na  soil_EC soil_ECEC soil_color soil_depth  \\\n",
       "12        NaN      NaN      NaN       NaN        NaN        NaN   \n",
       "13        NaN      NaN      NaN       NaN        NaN        NaN   \n",
       "14        NaN      NaN      NaN       NaN        NaN        NaN   \n",
       "15        NaN      NaN      NaN       NaN        NaN        NaN   \n",
       "16        NaN      NaN      NaN       NaN        NaN        NaN   \n",
       "...       ...      ...      ...       ...        ...        ...   \n",
       "89882     NaN      NaN      NaN       NaN        NaN        NaN   \n",
       "91861     NaN      NaN      NaN       NaN        NaN        NaN   \n",
       "91862     NaN      NaN      NaN       NaN        NaN        NaN   \n",
       "91863     NaN      NaN      NaN       NaN        NaN        NaN   \n",
       "91864     NaN      NaN      NaN       NaN        NaN        NaN   \n",
       "\n",
       "       soil_constraint  soil_ex_acidity  \n",
       "12                 NaN              NaN  \n",
       "13                 NaN              NaN  \n",
       "14                 NaN              NaN  \n",
       "15                 NaN              NaN  \n",
       "16                 NaN              NaN  \n",
       "...                ...              ...  \n",
       "89882              NaN              NaN  \n",
       "91861              NaN              NaN  \n",
       "91862              NaN              NaN  \n",
       "91863              NaN              NaN  \n",
       "91864              NaN              NaN  \n",
       "\n",
       "[6322 rows x 142 columns]>"
      ]
     },
     "execution_count": 26,
     "metadata": {},
     "output_type": "execute_result"
    }
   ],
   "source": [
    "df_nigeria_maize.describe #Decribe the variables"
   ]
  },
  {
   "cell_type": "code",
   "execution_count": 27,
   "id": "d1ed2bd3-a8d6-4596-8d13-9cc8e4a60ea5",
   "metadata": {},
   "outputs": [
    {
     "data": {
      "text/html": [
       "<div>\n",
       "<style scoped>\n",
       "    .dataframe tbody tr th:only-of-type {\n",
       "        vertical-align: middle;\n",
       "    }\n",
       "\n",
       "    .dataframe tbody tr th {\n",
       "        vertical-align: top;\n",
       "    }\n",
       "\n",
       "    .dataframe thead th {\n",
       "        text-align: right;\n",
       "    }\n",
       "</style>\n",
       "<table border=\"1\" class=\"dataframe\">\n",
       "  <thead>\n",
       "    <tr style=\"text-align: right;\">\n",
       "      <th></th>\n",
       "      <th>dataset_id</th>\n",
       "      <th>trial_id</th>\n",
       "      <th>record_id</th>\n",
       "      <th>country</th>\n",
       "      <th>adm1</th>\n",
       "      <th>adm2</th>\n",
       "      <th>adm3</th>\n",
       "      <th>adm4</th>\n",
       "      <th>adm5</th>\n",
       "      <th>location</th>\n",
       "      <th>...</th>\n",
       "      <th>soil_Mn</th>\n",
       "      <th>soil_Fe</th>\n",
       "      <th>soil_Zn</th>\n",
       "      <th>soil_Na</th>\n",
       "      <th>soil_EC</th>\n",
       "      <th>soil_ECEC</th>\n",
       "      <th>soil_color</th>\n",
       "      <th>soil_depth</th>\n",
       "      <th>soil_constraint</th>\n",
       "      <th>soil_ex_acidity</th>\n",
       "    </tr>\n",
       "  </thead>\n",
       "  <tbody>\n",
       "    <tr>\n",
       "      <th>45384</th>\n",
       "      <td>doi_10.25502_pakr-y904_d</td>\n",
       "      <td>5</td>\n",
       "      <td>NaN</td>\n",
       "      <td>Nigeria</td>\n",
       "      <td>Plateau</td>\n",
       "      <td>Kanam</td>\n",
       "      <td>NaN</td>\n",
       "      <td>NaN</td>\n",
       "      <td>NaN</td>\n",
       "      <td>NaN</td>\n",
       "      <td>...</td>\n",
       "      <td>NaN</td>\n",
       "      <td>NaN</td>\n",
       "      <td>NaN</td>\n",
       "      <td>NaN</td>\n",
       "      <td>NaN</td>\n",
       "      <td>NaN</td>\n",
       "      <td>NaN</td>\n",
       "      <td>NaN</td>\n",
       "      <td>NaN</td>\n",
       "      <td>NaN</td>\n",
       "    </tr>\n",
       "    <tr>\n",
       "      <th>45385</th>\n",
       "      <td>doi_10.25502_pakr-y904_d</td>\n",
       "      <td>5</td>\n",
       "      <td>NaN</td>\n",
       "      <td>Nigeria</td>\n",
       "      <td>Plateau</td>\n",
       "      <td>Kanam</td>\n",
       "      <td>NaN</td>\n",
       "      <td>NaN</td>\n",
       "      <td>NaN</td>\n",
       "      <td>NaN</td>\n",
       "      <td>...</td>\n",
       "      <td>NaN</td>\n",
       "      <td>NaN</td>\n",
       "      <td>NaN</td>\n",
       "      <td>NaN</td>\n",
       "      <td>NaN</td>\n",
       "      <td>NaN</td>\n",
       "      <td>NaN</td>\n",
       "      <td>NaN</td>\n",
       "      <td>NaN</td>\n",
       "      <td>NaN</td>\n",
       "    </tr>\n",
       "    <tr>\n",
       "      <th>45386</th>\n",
       "      <td>doi_10.25502_pakr-y904_d</td>\n",
       "      <td>5</td>\n",
       "      <td>NaN</td>\n",
       "      <td>Nigeria</td>\n",
       "      <td>Plateau</td>\n",
       "      <td>Kanam</td>\n",
       "      <td>NaN</td>\n",
       "      <td>NaN</td>\n",
       "      <td>NaN</td>\n",
       "      <td>NaN</td>\n",
       "      <td>...</td>\n",
       "      <td>NaN</td>\n",
       "      <td>NaN</td>\n",
       "      <td>NaN</td>\n",
       "      <td>NaN</td>\n",
       "      <td>NaN</td>\n",
       "      <td>NaN</td>\n",
       "      <td>NaN</td>\n",
       "      <td>NaN</td>\n",
       "      <td>NaN</td>\n",
       "      <td>NaN</td>\n",
       "    </tr>\n",
       "    <tr>\n",
       "      <th>45387</th>\n",
       "      <td>doi_10.25502_pakr-y904_d</td>\n",
       "      <td>5</td>\n",
       "      <td>NaN</td>\n",
       "      <td>Nigeria</td>\n",
       "      <td>Plateau</td>\n",
       "      <td>Kanam</td>\n",
       "      <td>NaN</td>\n",
       "      <td>NaN</td>\n",
       "      <td>NaN</td>\n",
       "      <td>NaN</td>\n",
       "      <td>...</td>\n",
       "      <td>NaN</td>\n",
       "      <td>NaN</td>\n",
       "      <td>NaN</td>\n",
       "      <td>NaN</td>\n",
       "      <td>NaN</td>\n",
       "      <td>NaN</td>\n",
       "      <td>NaN</td>\n",
       "      <td>NaN</td>\n",
       "      <td>NaN</td>\n",
       "      <td>NaN</td>\n",
       "    </tr>\n",
       "  </tbody>\n",
       "</table>\n",
       "<p>4 rows × 142 columns</p>\n",
       "</div>"
      ],
      "text/plain": [
       "                     dataset_id trial_id  record_id  country     adm1   adm2  \\\n",
       "45384  doi_10.25502_pakr-y904_d        5        NaN  Nigeria  Plateau  Kanam   \n",
       "45385  doi_10.25502_pakr-y904_d        5        NaN  Nigeria  Plateau  Kanam   \n",
       "45386  doi_10.25502_pakr-y904_d        5        NaN  Nigeria  Plateau  Kanam   \n",
       "45387  doi_10.25502_pakr-y904_d        5        NaN  Nigeria  Plateau  Kanam   \n",
       "\n",
       "      adm3 adm4 adm5 location  ... soil_Mn soil_Fe soil_Zn  soil_Na  soil_EC  \\\n",
       "45384  NaN  NaN  NaN      NaN  ...     NaN     NaN     NaN      NaN      NaN   \n",
       "45385  NaN  NaN  NaN      NaN  ...     NaN     NaN     NaN      NaN      NaN   \n",
       "45386  NaN  NaN  NaN      NaN  ...     NaN     NaN     NaN      NaN      NaN   \n",
       "45387  NaN  NaN  NaN      NaN  ...     NaN     NaN     NaN      NaN      NaN   \n",
       "\n",
       "      soil_ECEC soil_color soil_depth  soil_constraint  soil_ex_acidity  \n",
       "45384       NaN        NaN        NaN              NaN              NaN  \n",
       "45385       NaN        NaN        NaN              NaN              NaN  \n",
       "45386       NaN        NaN        NaN              NaN              NaN  \n",
       "45387       NaN        NaN        NaN              NaN              NaN  \n",
       "\n",
       "[4 rows x 142 columns]"
      ]
     },
     "execution_count": 27,
     "metadata": {},
     "output_type": "execute_result"
    }
   ],
   "source": [
    "df_nigeria_maize.loc[df_nigeria_maize['trial_id'] == \"5\"] #check data on trial number 5"
   ]
  },
  {
   "cell_type": "markdown",
   "id": "c29e2a29-afdc-477a-9b56-5a57569afc21",
   "metadata": {},
   "source": [
    "## Feature Selection: Select relevant variables that inform yield prediction"
   ]
  },
  {
   "cell_type": "code",
   "execution_count": 28,
   "id": "cadeef81-68f3-4c8e-8744-57003fa3b33b",
   "metadata": {},
   "outputs": [
    {
     "data": {
      "text/html": [
       "<div>\n",
       "<style scoped>\n",
       "    .dataframe tbody tr th:only-of-type {\n",
       "        vertical-align: middle;\n",
       "    }\n",
       "\n",
       "    .dataframe tbody tr th {\n",
       "        vertical-align: top;\n",
       "    }\n",
       "\n",
       "    .dataframe thead th {\n",
       "        text-align: right;\n",
       "    }\n",
       "</style>\n",
       "<table border=\"1\" class=\"dataframe\">\n",
       "  <thead>\n",
       "    <tr style=\"text-align: right;\">\n",
       "      <th></th>\n",
       "      <th>longitude</th>\n",
       "      <th>latitude</th>\n",
       "      <th>planting_date</th>\n",
       "      <th>harvest_date</th>\n",
       "      <th>variety</th>\n",
       "      <th>dmy_total</th>\n",
       "      <th>grain_weight</th>\n",
       "      <th>fertilizer_type</th>\n",
       "      <th>N_fertilizer</th>\n",
       "      <th>P_fertilizer</th>\n",
       "      <th>K_fertilizer</th>\n",
       "      <th>harvest_days</th>\n",
       "      <th>grain_weight</th>\n",
       "      <th>yield</th>\n",
       "    </tr>\n",
       "  </thead>\n",
       "  <tbody>\n",
       "    <tr>\n",
       "      <th>12</th>\n",
       "      <td>3.9</td>\n",
       "      <td>7.40</td>\n",
       "      <td>1975</td>\n",
       "      <td>NaN</td>\n",
       "      <td>NaN</td>\n",
       "      <td>NaN</td>\n",
       "      <td>NaN</td>\n",
       "      <td>unknown</td>\n",
       "      <td>120</td>\n",
       "      <td>35</td>\n",
       "      <td>0.0</td>\n",
       "      <td>NaN</td>\n",
       "      <td>NaN</td>\n",
       "      <td>3000</td>\n",
       "    </tr>\n",
       "    <tr>\n",
       "      <th>13</th>\n",
       "      <td>3.9</td>\n",
       "      <td>7.40</td>\n",
       "      <td>1976</td>\n",
       "      <td>NaN</td>\n",
       "      <td>NaN</td>\n",
       "      <td>NaN</td>\n",
       "      <td>NaN</td>\n",
       "      <td>unknown</td>\n",
       "      <td>120</td>\n",
       "      <td>35</td>\n",
       "      <td>0.0</td>\n",
       "      <td>NaN</td>\n",
       "      <td>NaN</td>\n",
       "      <td>2980</td>\n",
       "    </tr>\n",
       "    <tr>\n",
       "      <th>14</th>\n",
       "      <td>3.9</td>\n",
       "      <td>7.40</td>\n",
       "      <td>1977</td>\n",
       "      <td>NaN</td>\n",
       "      <td>NaN</td>\n",
       "      <td>NaN</td>\n",
       "      <td>NaN</td>\n",
       "      <td>unknown</td>\n",
       "      <td>120</td>\n",
       "      <td>35</td>\n",
       "      <td>0.0</td>\n",
       "      <td>NaN</td>\n",
       "      <td>NaN</td>\n",
       "      <td>2970</td>\n",
       "    </tr>\n",
       "    <tr>\n",
       "      <th>15</th>\n",
       "      <td>3.9</td>\n",
       "      <td>7.40</td>\n",
       "      <td>1978</td>\n",
       "      <td>NaN</td>\n",
       "      <td>NaN</td>\n",
       "      <td>NaN</td>\n",
       "      <td>NaN</td>\n",
       "      <td>unknown</td>\n",
       "      <td>120</td>\n",
       "      <td>35</td>\n",
       "      <td>0.0</td>\n",
       "      <td>NaN</td>\n",
       "      <td>NaN</td>\n",
       "      <td>2900</td>\n",
       "    </tr>\n",
       "    <tr>\n",
       "      <th>16</th>\n",
       "      <td>7.833333</td>\n",
       "      <td>7.00</td>\n",
       "      <td>1982</td>\n",
       "      <td>NaN</td>\n",
       "      <td>NaN</td>\n",
       "      <td>NaN</td>\n",
       "      <td>NaN</td>\n",
       "      <td>unknown</td>\n",
       "      <td>0</td>\n",
       "      <td>0</td>\n",
       "      <td>0.0</td>\n",
       "      <td>NaN</td>\n",
       "      <td>NaN</td>\n",
       "      <td>2430</td>\n",
       "    </tr>\n",
       "    <tr>\n",
       "      <th>...</th>\n",
       "      <td>...</td>\n",
       "      <td>...</td>\n",
       "      <td>...</td>\n",
       "      <td>...</td>\n",
       "      <td>...</td>\n",
       "      <td>...</td>\n",
       "      <td>...</td>\n",
       "      <td>...</td>\n",
       "      <td>...</td>\n",
       "      <td>...</td>\n",
       "      <td>...</td>\n",
       "      <td>...</td>\n",
       "      <td>...</td>\n",
       "      <td>...</td>\n",
       "    </tr>\n",
       "    <tr>\n",
       "      <th>89882</th>\n",
       "      <td>8.56</td>\n",
       "      <td>9.67</td>\n",
       "      <td>1978</td>\n",
       "      <td>NaN</td>\n",
       "      <td>NaN</td>\n",
       "      <td>NaN</td>\n",
       "      <td>NaN</td>\n",
       "      <td>NaN</td>\n",
       "      <td>66</td>\n",
       "      <td>33.44</td>\n",
       "      <td>37.3545</td>\n",
       "      <td>NaN</td>\n",
       "      <td>NaN</td>\n",
       "      <td>1800</td>\n",
       "    </tr>\n",
       "    <tr>\n",
       "      <th>91861</th>\n",
       "      <td>9.45</td>\n",
       "      <td>9.33</td>\n",
       "      <td>1978</td>\n",
       "      <td>NaN</td>\n",
       "      <td>NaN</td>\n",
       "      <td>NaN</td>\n",
       "      <td>NaN</td>\n",
       "      <td>NaN</td>\n",
       "      <td>0</td>\n",
       "      <td>0</td>\n",
       "      <td>0.0</td>\n",
       "      <td>NaN</td>\n",
       "      <td>NaN</td>\n",
       "      <td>1000.0</td>\n",
       "    </tr>\n",
       "    <tr>\n",
       "      <th>91862</th>\n",
       "      <td>9.45</td>\n",
       "      <td>9.33</td>\n",
       "      <td>1978</td>\n",
       "      <td>NaN</td>\n",
       "      <td>NaN</td>\n",
       "      <td>NaN</td>\n",
       "      <td>NaN</td>\n",
       "      <td>NaN</td>\n",
       "      <td>66</td>\n",
       "      <td>0</td>\n",
       "      <td>37.3545</td>\n",
       "      <td>NaN</td>\n",
       "      <td>NaN</td>\n",
       "      <td>500.0</td>\n",
       "    </tr>\n",
       "    <tr>\n",
       "      <th>91863</th>\n",
       "      <td>9.45</td>\n",
       "      <td>9.33</td>\n",
       "      <td>1978</td>\n",
       "      <td>NaN</td>\n",
       "      <td>NaN</td>\n",
       "      <td>NaN</td>\n",
       "      <td>NaN</td>\n",
       "      <td>NaN</td>\n",
       "      <td>66</td>\n",
       "      <td>16.72</td>\n",
       "      <td>37.3545</td>\n",
       "      <td>NaN</td>\n",
       "      <td>NaN</td>\n",
       "      <td>1500.0</td>\n",
       "    </tr>\n",
       "    <tr>\n",
       "      <th>91864</th>\n",
       "      <td>9.45</td>\n",
       "      <td>9.33</td>\n",
       "      <td>1978</td>\n",
       "      <td>NaN</td>\n",
       "      <td>NaN</td>\n",
       "      <td>NaN</td>\n",
       "      <td>NaN</td>\n",
       "      <td>NaN</td>\n",
       "      <td>66</td>\n",
       "      <td>33.44</td>\n",
       "      <td>37.3545</td>\n",
       "      <td>NaN</td>\n",
       "      <td>NaN</td>\n",
       "      <td>1530.0</td>\n",
       "    </tr>\n",
       "  </tbody>\n",
       "</table>\n",
       "<p>6322 rows × 14 columns</p>\n",
       "</div>"
      ],
      "text/plain": [
       "      longitude  latitude planting_date harvest_date variety  dmy_total  \\\n",
       "12          3.9      7.40          1975          NaN     NaN        NaN   \n",
       "13          3.9      7.40          1976          NaN     NaN        NaN   \n",
       "14          3.9      7.40          1977          NaN     NaN        NaN   \n",
       "15          3.9      7.40          1978          NaN     NaN        NaN   \n",
       "16     7.833333      7.00          1982          NaN     NaN        NaN   \n",
       "...         ...       ...           ...          ...     ...        ...   \n",
       "89882      8.56      9.67          1978          NaN     NaN        NaN   \n",
       "91861      9.45      9.33          1978          NaN     NaN        NaN   \n",
       "91862      9.45      9.33          1978          NaN     NaN        NaN   \n",
       "91863      9.45      9.33          1978          NaN     NaN        NaN   \n",
       "91864      9.45      9.33          1978          NaN     NaN        NaN   \n",
       "\n",
       "      grain_weight fertilizer_type N_fertilizer P_fertilizer K_fertilizer  \\\n",
       "12             NaN         unknown          120           35          0.0   \n",
       "13             NaN         unknown          120           35          0.0   \n",
       "14             NaN         unknown          120           35          0.0   \n",
       "15             NaN         unknown          120           35          0.0   \n",
       "16             NaN         unknown            0            0          0.0   \n",
       "...            ...             ...          ...          ...          ...   \n",
       "89882          NaN             NaN           66        33.44      37.3545   \n",
       "91861          NaN             NaN            0            0          0.0   \n",
       "91862          NaN             NaN           66            0      37.3545   \n",
       "91863          NaN             NaN           66        16.72      37.3545   \n",
       "91864          NaN             NaN           66        33.44      37.3545   \n",
       "\n",
       "       harvest_days grain_weight   yield  \n",
       "12              NaN          NaN    3000  \n",
       "13              NaN          NaN    2980  \n",
       "14              NaN          NaN    2970  \n",
       "15              NaN          NaN    2900  \n",
       "16              NaN          NaN    2430  \n",
       "...             ...          ...     ...  \n",
       "89882           NaN          NaN    1800  \n",
       "91861           NaN          NaN  1000.0  \n",
       "91862           NaN          NaN   500.0  \n",
       "91863           NaN          NaN  1500.0  \n",
       "91864           NaN          NaN  1530.0  \n",
       "\n",
       "[6322 rows x 14 columns]"
      ]
     },
     "execution_count": 28,
     "metadata": {},
     "output_type": "execute_result"
    }
   ],
   "source": [
    "Feature_Selection = df_nigeria_maize[[\"longitude\", \"latitude\",\"planting_date\",\"harvest_date\",\"variety\",\"dmy_total\",\"grain_weight\",\"fertilizer_type\",\"N_fertilizer\",\"P_fertilizer\",\"K_fertilizer\",\"harvest_days\",\"grain_weight\",\"yield\"]]\n",
    "Feature_Selection"
   ]
  },
  {
   "cell_type": "code",
   "execution_count": 29,
   "id": "36091b3d-eba2-4563-91e9-990cfd35ef4c",
   "metadata": {},
   "outputs": [
    {
     "data": {
      "text/plain": [
       "longitude             0\n",
       "latitude              0\n",
       "planting_date      2732\n",
       "harvest_date       3156\n",
       "variety            1202\n",
       "dmy_total          6106\n",
       "grain_weight       6106\n",
       "fertilizer_type    5097\n",
       "N_fertilizer         28\n",
       "P_fertilizer        257\n",
       "K_fertilizer         88\n",
       "harvest_days       6106\n",
       "grain_weight       6106\n",
       "yield               122\n",
       "dtype: int64"
      ]
     },
     "execution_count": 29,
     "metadata": {},
     "output_type": "execute_result"
    }
   ],
   "source": [
    "Feature_Selection.isnull().sum()"
   ]
  },
  {
   "cell_type": "markdown",
   "id": "8b2e8015-65a4-4c17-ba1e-ddbbe784cef4",
   "metadata": {},
   "source": [
    "### Select fewer features since most of the previous variables are empty"
   ]
  },
  {
   "cell_type": "code",
   "execution_count": 30,
   "id": "6e408021-c0db-4443-9165-bbfe6e92088f",
   "metadata": {},
   "outputs": [
    {
     "data": {
      "text/plain": [
       "longitude           0\n",
       "latitude            0\n",
       "planting_date    2732\n",
       "variety          1202\n",
       "N_fertilizer       28\n",
       "P_fertilizer      257\n",
       "K_fertilizer       88\n",
       "yield             122\n",
       "dtype: int64"
      ]
     },
     "execution_count": 30,
     "metadata": {},
     "output_type": "execute_result"
    }
   ],
   "source": [
    "Feature_Selection2 = df_nigeria_maize[[\"longitude\", \"latitude\",\"planting_date\",\"variety\",\"N_fertilizer\",\"P_fertilizer\",\"K_fertilizer\",\"yield\"]]\n",
    "Feature_Selection2.isnull().sum()"
   ]
  },
  {
   "cell_type": "markdown",
   "id": "91ff6f2c-0a29-415e-8478-6fd87a433b75",
   "metadata": {},
   "source": [
    "## Delete rows containing empty/null values"
   ]
  },
  {
   "cell_type": "code",
   "execution_count": 31,
   "id": "c223bbff-2288-4c37-b986-a7e873c0f311",
   "metadata": {},
   "outputs": [],
   "source": [
    "Feature_Selection3 = Feature_Selection2.dropna()"
   ]
  },
  {
   "cell_type": "code",
   "execution_count": 32,
   "id": "d8170ae0-159b-4b6b-ba27-8360bf11e9d5",
   "metadata": {},
   "outputs": [
    {
     "data": {
      "text/plain": [
       "longitude        0\n",
       "latitude         0\n",
       "planting_date    0\n",
       "variety          0\n",
       "N_fertilizer     0\n",
       "P_fertilizer     0\n",
       "K_fertilizer     0\n",
       "yield            0\n",
       "dtype: int64"
      ]
     },
     "execution_count": 32,
     "metadata": {},
     "output_type": "execute_result"
    }
   ],
   "source": [
    "Feature_Selection3.isnull().sum()"
   ]
  },
  {
   "cell_type": "code",
   "execution_count": 33,
   "id": "14b36fd3-5b37-42c7-b344-39d1c0c3b420",
   "metadata": {},
   "outputs": [
    {
     "data": {
      "text/plain": [
       "(2327, 8)"
      ]
     },
     "execution_count": 33,
     "metadata": {},
     "output_type": "execute_result"
    }
   ],
   "source": [
    "Feature_Selection3.shape"
   ]
  },
  {
   "cell_type": "markdown",
   "id": "9c32a254-1739-4bca-9ce9-e60bae03d599",
   "metadata": {},
   "source": [
    "This is WorldClim version 2.1 climate data for 1970-2000. This version was released in January 2020."
   ]
  },
  {
   "cell_type": "code",
   "execution_count": 34,
   "id": "5281e8d0-09dd-4cc4-b201-868de3304353",
   "metadata": {},
   "outputs": [
    {
     "data": {
      "text/plain": [
       "'2017-06-01'"
      ]
     },
     "execution_count": 34,
     "metadata": {},
     "output_type": "execute_result"
    }
   ],
   "source": [
    "max(Feature_Selection3.planting_date)"
   ]
  },
  {
   "cell_type": "code",
   "execution_count": 35,
   "id": "285777ad-e1c1-4fbb-8b6f-37899093dcad",
   "metadata": {},
   "outputs": [
    {
     "data": {
      "text/plain": [
       "'1982-04'"
      ]
     },
     "execution_count": 35,
     "metadata": {},
     "output_type": "execute_result"
    }
   ],
   "source": [
    "min(Feature_Selection3.planting_date)"
   ]
  },
  {
   "cell_type": "code",
   "execution_count": 36,
   "id": "5585966b-026b-4f57-9327-b99a476ba417",
   "metadata": {},
   "outputs": [
    {
     "data": {
      "text/html": [
       "<div>\n",
       "<style scoped>\n",
       "    .dataframe tbody tr th:only-of-type {\n",
       "        vertical-align: middle;\n",
       "    }\n",
       "\n",
       "    .dataframe tbody tr th {\n",
       "        vertical-align: top;\n",
       "    }\n",
       "\n",
       "    .dataframe thead th {\n",
       "        text-align: right;\n",
       "    }\n",
       "</style>\n",
       "<table border=\"1\" class=\"dataframe\">\n",
       "  <thead>\n",
       "    <tr style=\"text-align: right;\">\n",
       "      <th></th>\n",
       "      <th>latitude</th>\n",
       "    </tr>\n",
       "  </thead>\n",
       "  <tbody>\n",
       "    <tr>\n",
       "      <th>count</th>\n",
       "      <td>2327.000000</td>\n",
       "    </tr>\n",
       "    <tr>\n",
       "      <th>mean</th>\n",
       "      <td>10.064116</td>\n",
       "    </tr>\n",
       "    <tr>\n",
       "      <th>std</th>\n",
       "      <td>1.029982</td>\n",
       "    </tr>\n",
       "    <tr>\n",
       "      <th>min</th>\n",
       "      <td>7.300000</td>\n",
       "    </tr>\n",
       "    <tr>\n",
       "      <th>25%</th>\n",
       "      <td>9.338104</td>\n",
       "    </tr>\n",
       "    <tr>\n",
       "      <th>50%</th>\n",
       "      <td>10.268580</td>\n",
       "    </tr>\n",
       "    <tr>\n",
       "      <th>75%</th>\n",
       "      <td>10.622828</td>\n",
       "    </tr>\n",
       "    <tr>\n",
       "      <th>max</th>\n",
       "      <td>12.563083</td>\n",
       "    </tr>\n",
       "  </tbody>\n",
       "</table>\n",
       "</div>"
      ],
      "text/plain": [
       "          latitude\n",
       "count  2327.000000\n",
       "mean     10.064116\n",
       "std       1.029982\n",
       "min       7.300000\n",
       "25%       9.338104\n",
       "50%      10.268580\n",
       "75%      10.622828\n",
       "max      12.563083"
      ]
     },
     "execution_count": 36,
     "metadata": {},
     "output_type": "execute_result"
    }
   ],
   "source": [
    "Feature_Selection3.describe()"
   ]
  },
  {
   "cell_type": "markdown",
   "id": "4e13a184-2a41-4563-84ed-2c82fba207ed",
   "metadata": {},
   "source": [
    "## Confirm if Points are in Nigeria; commented out since it takes a lot of time to process"
   ]
  },
  {
   "cell_type": "code",
   "execution_count": 37,
   "id": "2b5befbd-0f94-46ea-8ec3-0fe6c7b225b9",
   "metadata": {},
   "outputs": [
    {
     "data": {
      "text/plain": [
       "2327"
      ]
     },
     "execution_count": 37,
     "metadata": {},
     "output_type": "execute_result"
    }
   ],
   "source": [
    "len(Feature_Selection3)"
   ]
  },
  {
   "cell_type": "code",
   "execution_count": 38,
   "id": "fe6f33f7-4968-4374-8f40-e936cad11129",
   "metadata": {},
   "outputs": [
    {
     "data": {
      "text/plain": [
       "7.78896"
      ]
     },
     "execution_count": 38,
     "metadata": {},
     "output_type": "execute_result"
    }
   ],
   "source": [
    "Feature_Selection3.iloc[0].longitude"
   ]
  },
  {
   "cell_type": "code",
   "execution_count": 39,
   "id": "eae579f3-a9a1-43a4-b292-77eff779cfd8",
   "metadata": {},
   "outputs": [],
   "source": [
    "#countries = {}\n",
    "\n",
    "#for a in range(len(Feature_Selection3)):\n",
    "#    country = get_country(Feature_Selection3.iloc[a].latitude, Feature_Selection3.iloc[a].longitude)\n",
    "#    countries[a] = country\n",
    "#    #break;"
   ]
  },
  {
   "cell_type": "code",
   "execution_count": 40,
   "id": "e468e449-80cc-453c-ad54-5848edec10ac",
   "metadata": {},
   "outputs": [],
   "source": [
    "#for key, val in countries.items():  # for name, age in dictionary.iteritems():  (for Python 2.x)\n",
    "#    if(val != \"Nigeria\"):\n",
    "#        print(\"This row needs to be deleted\", key, \" it has country\", val)"
   ]
  },
  {
   "cell_type": "code",
   "execution_count": 41,
   "id": "ea8142f8-f6e6-4188-9fa8-502b6e6bf09d",
   "metadata": {},
   "outputs": [],
   "source": [
    "#count = 0 \n",
    "#for a in range(len(df_nigeria_maize['trial_id'].unique())):\n",
    "#    df_trial = df_nigeria_maize.loc[df_nigeria_maize['trial_id'] == df_nigeria_maize['trial_id'].unique()[a]]\n",
    "#    if(len(df_trial['longitude'].values) > 0): #contains values\n",
    "#        #print(df_trial['trial_id'].values[0], \" \", df_trial['longitude'].values[0], \" \", df_trial['latitude'].values[0])\n",
    "#        df_lat_long = pd.concat([df_lat_long, pd.DataFrame({'longitude': df_trial['longitude'].values[0], 'latitude': df_trial['latitude'].values[0]}, index=[count])])\n",
    "#        count = count + 1"
   ]
  },
  {
   "cell_type": "code",
   "execution_count": 42,
   "id": "d11dadc0-4205-42b7-96ab-52aae6b51fdf",
   "metadata": {},
   "outputs": [
    {
     "data": {
      "text/html": [
       "<div>\n",
       "<style scoped>\n",
       "    .dataframe tbody tr th:only-of-type {\n",
       "        vertical-align: middle;\n",
       "    }\n",
       "\n",
       "    .dataframe tbody tr th {\n",
       "        vertical-align: top;\n",
       "    }\n",
       "\n",
       "    .dataframe thead th {\n",
       "        text-align: right;\n",
       "    }\n",
       "</style>\n",
       "<table border=\"1\" class=\"dataframe\">\n",
       "  <thead>\n",
       "    <tr style=\"text-align: right;\">\n",
       "      <th></th>\n",
       "      <th>longitude</th>\n",
       "      <th>latitude</th>\n",
       "      <th>planting_date</th>\n",
       "      <th>variety</th>\n",
       "      <th>N_fertilizer</th>\n",
       "      <th>P_fertilizer</th>\n",
       "      <th>K_fertilizer</th>\n",
       "      <th>yield</th>\n",
       "    </tr>\n",
       "  </thead>\n",
       "  <tbody>\n",
       "    <tr>\n",
       "      <th>3416</th>\n",
       "      <td>7.78896</td>\n",
       "      <td>10.26858</td>\n",
       "      <td>2015</td>\n",
       "      <td>COMP1</td>\n",
       "      <td>DAP</td>\n",
       "      <td>SSP</td>\n",
       "      <td>0.0</td>\n",
       "      <td>458.4</td>\n",
       "    </tr>\n",
       "    <tr>\n",
       "      <th>3417</th>\n",
       "      <td>7.78896</td>\n",
       "      <td>10.26858</td>\n",
       "      <td>2015</td>\n",
       "      <td>COMP1</td>\n",
       "      <td>DAP</td>\n",
       "      <td>SSP</td>\n",
       "      <td>0.0</td>\n",
       "      <td>1197.68</td>\n",
       "    </tr>\n",
       "    <tr>\n",
       "      <th>3418</th>\n",
       "      <td>7.78896</td>\n",
       "      <td>10.26858</td>\n",
       "      <td>2015</td>\n",
       "      <td>COMP1</td>\n",
       "      <td>DAP</td>\n",
       "      <td>SSP</td>\n",
       "      <td>0.0</td>\n",
       "      <td>1248.24</td>\n",
       "    </tr>\n",
       "    <tr>\n",
       "      <th>3419</th>\n",
       "      <td>7.78896</td>\n",
       "      <td>10.26858</td>\n",
       "      <td>2015</td>\n",
       "      <td>COMP1</td>\n",
       "      <td>DAP</td>\n",
       "      <td>SSP</td>\n",
       "      <td>60.0</td>\n",
       "      <td>2854.53</td>\n",
       "    </tr>\n",
       "    <tr>\n",
       "      <th>3420</th>\n",
       "      <td>7.78896</td>\n",
       "      <td>10.26858</td>\n",
       "      <td>2015</td>\n",
       "      <td>COMP1</td>\n",
       "      <td>DAP</td>\n",
       "      <td>SSP</td>\n",
       "      <td>60.0</td>\n",
       "      <td>2649.84</td>\n",
       "    </tr>\n",
       "  </tbody>\n",
       "</table>\n",
       "</div>"
      ],
      "text/plain": [
       "     longitude  latitude planting_date variety N_fertilizer P_fertilizer  \\\n",
       "3416   7.78896  10.26858          2015   COMP1          DAP          SSP   \n",
       "3417   7.78896  10.26858          2015   COMP1          DAP          SSP   \n",
       "3418   7.78896  10.26858          2015   COMP1          DAP          SSP   \n",
       "3419   7.78896  10.26858          2015   COMP1          DAP          SSP   \n",
       "3420   7.78896  10.26858          2015   COMP1          DAP          SSP   \n",
       "\n",
       "     K_fertilizer    yield  \n",
       "3416          0.0    458.4  \n",
       "3417          0.0  1197.68  \n",
       "3418          0.0  1248.24  \n",
       "3419         60.0  2854.53  \n",
       "3420         60.0  2649.84  "
      ]
     },
     "execution_count": 42,
     "metadata": {},
     "output_type": "execute_result"
    }
   ],
   "source": [
    "Feature_Selection3.head()"
   ]
  },
  {
   "cell_type": "markdown",
   "id": "6172f4db-d04e-465f-a1ca-25b4c2e82db9",
   "metadata": {},
   "source": [
    "### Check again of there are null values"
   ]
  },
  {
   "cell_type": "code",
   "execution_count": 43,
   "id": "e1919014-da17-43a3-9164-a2639bf2336a",
   "metadata": {},
   "outputs": [
    {
     "data": {
      "text/plain": [
       "longitude        0\n",
       "latitude         0\n",
       "planting_date    0\n",
       "variety          0\n",
       "N_fertilizer     0\n",
       "P_fertilizer     0\n",
       "K_fertilizer     0\n",
       "yield            0\n",
       "dtype: int64"
      ]
     },
     "execution_count": 43,
     "metadata": {},
     "output_type": "execute_result"
    }
   ],
   "source": [
    "Feature_Selection3.isnull().sum()"
   ]
  },
  {
   "cell_type": "markdown",
   "id": "b65d3ce0-a28c-4828-abdb-df0992cb9dc0",
   "metadata": {},
   "source": [
    "## Cleaning date values"
   ]
  },
  {
   "cell_type": "code",
   "execution_count": 44,
   "id": "c310c71f-8d3b-45c9-bf58-fca29037d88f",
   "metadata": {},
   "outputs": [
    {
     "data": {
      "text/plain": [
       "'2017-06-01'"
      ]
     },
     "execution_count": 44,
     "metadata": {},
     "output_type": "execute_result"
    }
   ],
   "source": [
    "max(Feature_Selection3.planting_date)"
   ]
  },
  {
   "cell_type": "code",
   "execution_count": 45,
   "id": "b1808721-6ed7-44bb-943e-34d839dabd62",
   "metadata": {},
   "outputs": [
    {
     "data": {
      "text/plain": [
       "'1982-04'"
      ]
     },
     "execution_count": 45,
     "metadata": {},
     "output_type": "execute_result"
    }
   ],
   "source": [
    "min(Feature_Selection3.planting_date)"
   ]
  },
  {
   "cell_type": "code",
   "execution_count": 46,
   "id": "42af52f8-e9a1-4ab0-9d7f-4056ac6d4777",
   "metadata": {},
   "outputs": [],
   "source": [
    "years = np.zeros(len(Feature_Selection3.planting_date))\n",
    "\n",
    "for a in range(len(Feature_Selection3.planting_date)):\n",
    "    years[a] = pd.to_datetime(Feature_Selection3.planting_date.iloc[a]).year"
   ]
  },
  {
   "cell_type": "code",
   "execution_count": 47,
   "id": "0142fd4b-bc67-4f5b-9346-643c8e1ecb18",
   "metadata": {},
   "outputs": [
    {
     "name": "stderr",
     "output_type": "stream",
     "text": [
      "/tmp/ipykernel_89667/1804558356.py:1: SettingWithCopyWarning: \n",
      "A value is trying to be set on a copy of a slice from a DataFrame.\n",
      "Try using .loc[row_indexer,col_indexer] = value instead\n",
      "\n",
      "See the caveats in the documentation: https://pandas.pydata.org/pandas-docs/stable/user_guide/indexing.html#returning-a-view-versus-a-copy\n",
      "  Feature_Selection3['planting_year'] = years.tolist()\n"
     ]
    }
   ],
   "source": [
    "Feature_Selection3['planting_year'] = years.tolist()"
   ]
  },
  {
   "cell_type": "code",
   "execution_count": 48,
   "id": "8f63cb36-d215-4234-8849-6cf2173e42b0",
   "metadata": {},
   "outputs": [
    {
     "data": {
      "text/html": [
       "<div>\n",
       "<style scoped>\n",
       "    .dataframe tbody tr th:only-of-type {\n",
       "        vertical-align: middle;\n",
       "    }\n",
       "\n",
       "    .dataframe tbody tr th {\n",
       "        vertical-align: top;\n",
       "    }\n",
       "\n",
       "    .dataframe thead th {\n",
       "        text-align: right;\n",
       "    }\n",
       "</style>\n",
       "<table border=\"1\" class=\"dataframe\">\n",
       "  <thead>\n",
       "    <tr style=\"text-align: right;\">\n",
       "      <th></th>\n",
       "      <th>longitude</th>\n",
       "      <th>latitude</th>\n",
       "      <th>planting_date</th>\n",
       "      <th>variety</th>\n",
       "      <th>N_fertilizer</th>\n",
       "      <th>P_fertilizer</th>\n",
       "      <th>K_fertilizer</th>\n",
       "      <th>yield</th>\n",
       "      <th>planting_year</th>\n",
       "    </tr>\n",
       "  </thead>\n",
       "  <tbody>\n",
       "    <tr>\n",
       "      <th>3416</th>\n",
       "      <td>7.78896</td>\n",
       "      <td>10.26858</td>\n",
       "      <td>2015</td>\n",
       "      <td>COMP1</td>\n",
       "      <td>DAP</td>\n",
       "      <td>SSP</td>\n",
       "      <td>0.0</td>\n",
       "      <td>458.4</td>\n",
       "      <td>2015.0</td>\n",
       "    </tr>\n",
       "    <tr>\n",
       "      <th>3417</th>\n",
       "      <td>7.78896</td>\n",
       "      <td>10.26858</td>\n",
       "      <td>2015</td>\n",
       "      <td>COMP1</td>\n",
       "      <td>DAP</td>\n",
       "      <td>SSP</td>\n",
       "      <td>0.0</td>\n",
       "      <td>1197.68</td>\n",
       "      <td>2015.0</td>\n",
       "    </tr>\n",
       "    <tr>\n",
       "      <th>3418</th>\n",
       "      <td>7.78896</td>\n",
       "      <td>10.26858</td>\n",
       "      <td>2015</td>\n",
       "      <td>COMP1</td>\n",
       "      <td>DAP</td>\n",
       "      <td>SSP</td>\n",
       "      <td>0.0</td>\n",
       "      <td>1248.24</td>\n",
       "      <td>2015.0</td>\n",
       "    </tr>\n",
       "    <tr>\n",
       "      <th>3419</th>\n",
       "      <td>7.78896</td>\n",
       "      <td>10.26858</td>\n",
       "      <td>2015</td>\n",
       "      <td>COMP1</td>\n",
       "      <td>DAP</td>\n",
       "      <td>SSP</td>\n",
       "      <td>60.0</td>\n",
       "      <td>2854.53</td>\n",
       "      <td>2015.0</td>\n",
       "    </tr>\n",
       "    <tr>\n",
       "      <th>3420</th>\n",
       "      <td>7.78896</td>\n",
       "      <td>10.26858</td>\n",
       "      <td>2015</td>\n",
       "      <td>COMP1</td>\n",
       "      <td>DAP</td>\n",
       "      <td>SSP</td>\n",
       "      <td>60.0</td>\n",
       "      <td>2649.84</td>\n",
       "      <td>2015.0</td>\n",
       "    </tr>\n",
       "  </tbody>\n",
       "</table>\n",
       "</div>"
      ],
      "text/plain": [
       "     longitude  latitude planting_date variety N_fertilizer P_fertilizer  \\\n",
       "3416   7.78896  10.26858          2015   COMP1          DAP          SSP   \n",
       "3417   7.78896  10.26858          2015   COMP1          DAP          SSP   \n",
       "3418   7.78896  10.26858          2015   COMP1          DAP          SSP   \n",
       "3419   7.78896  10.26858          2015   COMP1          DAP          SSP   \n",
       "3420   7.78896  10.26858          2015   COMP1          DAP          SSP   \n",
       "\n",
       "     K_fertilizer    yield  planting_year  \n",
       "3416          0.0    458.4         2015.0  \n",
       "3417          0.0  1197.68         2015.0  \n",
       "3418          0.0  1248.24         2015.0  \n",
       "3419         60.0  2854.53         2015.0  \n",
       "3420         60.0  2649.84         2015.0  "
      ]
     },
     "execution_count": 48,
     "metadata": {},
     "output_type": "execute_result"
    }
   ],
   "source": [
    "Feature_Selection3.head()"
   ]
  },
  {
   "cell_type": "code",
   "execution_count": 49,
   "id": "1cea083b-d73e-4af4-8918-7dd269243fd8",
   "metadata": {},
   "outputs": [
    {
     "name": "stderr",
     "output_type": "stream",
     "text": [
      "/tmp/ipykernel_89667/2261654500.py:1: SettingWithCopyWarning: \n",
      "A value is trying to be set on a copy of a slice from a DataFrame\n",
      "\n",
      "See the caveats in the documentation: https://pandas.pydata.org/pandas-docs/stable/user_guide/indexing.html#returning-a-view-versus-a-copy\n",
      "  Feature_Selection3.drop('planting_date', axis=1, inplace = True)\n"
     ]
    }
   ],
   "source": [
    "Feature_Selection3.drop('planting_date', axis=1, inplace = True)"
   ]
  },
  {
   "cell_type": "code",
   "execution_count": 50,
   "id": "b0db1419-0a46-4a03-837a-518e946d5185",
   "metadata": {},
   "outputs": [
    {
     "data": {
      "text/html": [
       "<div>\n",
       "<style scoped>\n",
       "    .dataframe tbody tr th:only-of-type {\n",
       "        vertical-align: middle;\n",
       "    }\n",
       "\n",
       "    .dataframe tbody tr th {\n",
       "        vertical-align: top;\n",
       "    }\n",
       "\n",
       "    .dataframe thead th {\n",
       "        text-align: right;\n",
       "    }\n",
       "</style>\n",
       "<table border=\"1\" class=\"dataframe\">\n",
       "  <thead>\n",
       "    <tr style=\"text-align: right;\">\n",
       "      <th></th>\n",
       "      <th>longitude</th>\n",
       "      <th>latitude</th>\n",
       "      <th>variety</th>\n",
       "      <th>N_fertilizer</th>\n",
       "      <th>P_fertilizer</th>\n",
       "      <th>K_fertilizer</th>\n",
       "      <th>yield</th>\n",
       "      <th>planting_year</th>\n",
       "    </tr>\n",
       "  </thead>\n",
       "  <tbody>\n",
       "    <tr>\n",
       "      <th>3416</th>\n",
       "      <td>7.78896</td>\n",
       "      <td>10.26858</td>\n",
       "      <td>COMP1</td>\n",
       "      <td>DAP</td>\n",
       "      <td>SSP</td>\n",
       "      <td>0.0</td>\n",
       "      <td>458.4</td>\n",
       "      <td>2015.0</td>\n",
       "    </tr>\n",
       "    <tr>\n",
       "      <th>3417</th>\n",
       "      <td>7.78896</td>\n",
       "      <td>10.26858</td>\n",
       "      <td>COMP1</td>\n",
       "      <td>DAP</td>\n",
       "      <td>SSP</td>\n",
       "      <td>0.0</td>\n",
       "      <td>1197.68</td>\n",
       "      <td>2015.0</td>\n",
       "    </tr>\n",
       "    <tr>\n",
       "      <th>3418</th>\n",
       "      <td>7.78896</td>\n",
       "      <td>10.26858</td>\n",
       "      <td>COMP1</td>\n",
       "      <td>DAP</td>\n",
       "      <td>SSP</td>\n",
       "      <td>0.0</td>\n",
       "      <td>1248.24</td>\n",
       "      <td>2015.0</td>\n",
       "    </tr>\n",
       "    <tr>\n",
       "      <th>3419</th>\n",
       "      <td>7.78896</td>\n",
       "      <td>10.26858</td>\n",
       "      <td>COMP1</td>\n",
       "      <td>DAP</td>\n",
       "      <td>SSP</td>\n",
       "      <td>60.0</td>\n",
       "      <td>2854.53</td>\n",
       "      <td>2015.0</td>\n",
       "    </tr>\n",
       "    <tr>\n",
       "      <th>3420</th>\n",
       "      <td>7.78896</td>\n",
       "      <td>10.26858</td>\n",
       "      <td>COMP1</td>\n",
       "      <td>DAP</td>\n",
       "      <td>SSP</td>\n",
       "      <td>60.0</td>\n",
       "      <td>2649.84</td>\n",
       "      <td>2015.0</td>\n",
       "    </tr>\n",
       "  </tbody>\n",
       "</table>\n",
       "</div>"
      ],
      "text/plain": [
       "     longitude  latitude variety N_fertilizer P_fertilizer K_fertilizer  \\\n",
       "3416   7.78896  10.26858   COMP1          DAP          SSP          0.0   \n",
       "3417   7.78896  10.26858   COMP1          DAP          SSP          0.0   \n",
       "3418   7.78896  10.26858   COMP1          DAP          SSP          0.0   \n",
       "3419   7.78896  10.26858   COMP1          DAP          SSP         60.0   \n",
       "3420   7.78896  10.26858   COMP1          DAP          SSP         60.0   \n",
       "\n",
       "        yield  planting_year  \n",
       "3416    458.4         2015.0  \n",
       "3417  1197.68         2015.0  \n",
       "3418  1248.24         2015.0  \n",
       "3419  2854.53         2015.0  \n",
       "3420  2649.84         2015.0  "
      ]
     },
     "execution_count": 50,
     "metadata": {},
     "output_type": "execute_result"
    }
   ],
   "source": [
    "Feature_Selection3.head()"
   ]
  },
  {
   "cell_type": "code",
   "execution_count": 51,
   "id": "e53a5b87-a3e2-4c23-a9c6-c89badb3b4ba",
   "metadata": {},
   "outputs": [],
   "source": [
    "Feature_Selection3 = Feature_Selection3.loc[:,['longitude','latitude','planting_year','variety','N_fertilizer','P_fertilizer','K_fertilizer','yield']]"
   ]
  },
  {
   "cell_type": "code",
   "execution_count": 52,
   "id": "5a5301f1-0dd6-450a-8171-d86242ac7204",
   "metadata": {},
   "outputs": [
    {
     "data": {
      "text/plain": [
       "(2327, 8)"
      ]
     },
     "execution_count": 52,
     "metadata": {},
     "output_type": "execute_result"
    }
   ],
   "source": [
    "Feature_Selection3.shape"
   ]
  },
  {
   "cell_type": "code",
   "execution_count": 53,
   "id": "e9f31bc9-6dcb-4cde-80dc-4af7eb092101",
   "metadata": {},
   "outputs": [
    {
     "data": {
      "text/html": [
       "<div>\n",
       "<style scoped>\n",
       "    .dataframe tbody tr th:only-of-type {\n",
       "        vertical-align: middle;\n",
       "    }\n",
       "\n",
       "    .dataframe tbody tr th {\n",
       "        vertical-align: top;\n",
       "    }\n",
       "\n",
       "    .dataframe thead th {\n",
       "        text-align: right;\n",
       "    }\n",
       "</style>\n",
       "<table border=\"1\" class=\"dataframe\">\n",
       "  <thead>\n",
       "    <tr style=\"text-align: right;\">\n",
       "      <th></th>\n",
       "      <th>longitude</th>\n",
       "      <th>latitude</th>\n",
       "      <th>planting_year</th>\n",
       "      <th>variety</th>\n",
       "      <th>N_fertilizer</th>\n",
       "      <th>P_fertilizer</th>\n",
       "      <th>K_fertilizer</th>\n",
       "      <th>yield</th>\n",
       "    </tr>\n",
       "  </thead>\n",
       "  <tbody>\n",
       "    <tr>\n",
       "      <th>3416</th>\n",
       "      <td>7.78896</td>\n",
       "      <td>10.26858</td>\n",
       "      <td>2015.0</td>\n",
       "      <td>COMP1</td>\n",
       "      <td>DAP</td>\n",
       "      <td>SSP</td>\n",
       "      <td>0.0</td>\n",
       "      <td>458.4</td>\n",
       "    </tr>\n",
       "    <tr>\n",
       "      <th>3417</th>\n",
       "      <td>7.78896</td>\n",
       "      <td>10.26858</td>\n",
       "      <td>2015.0</td>\n",
       "      <td>COMP1</td>\n",
       "      <td>DAP</td>\n",
       "      <td>SSP</td>\n",
       "      <td>0.0</td>\n",
       "      <td>1197.68</td>\n",
       "    </tr>\n",
       "    <tr>\n",
       "      <th>3418</th>\n",
       "      <td>7.78896</td>\n",
       "      <td>10.26858</td>\n",
       "      <td>2015.0</td>\n",
       "      <td>COMP1</td>\n",
       "      <td>DAP</td>\n",
       "      <td>SSP</td>\n",
       "      <td>0.0</td>\n",
       "      <td>1248.24</td>\n",
       "    </tr>\n",
       "    <tr>\n",
       "      <th>3419</th>\n",
       "      <td>7.78896</td>\n",
       "      <td>10.26858</td>\n",
       "      <td>2015.0</td>\n",
       "      <td>COMP1</td>\n",
       "      <td>DAP</td>\n",
       "      <td>SSP</td>\n",
       "      <td>60.0</td>\n",
       "      <td>2854.53</td>\n",
       "    </tr>\n",
       "    <tr>\n",
       "      <th>3420</th>\n",
       "      <td>7.78896</td>\n",
       "      <td>10.26858</td>\n",
       "      <td>2015.0</td>\n",
       "      <td>COMP1</td>\n",
       "      <td>DAP</td>\n",
       "      <td>SSP</td>\n",
       "      <td>60.0</td>\n",
       "      <td>2649.84</td>\n",
       "    </tr>\n",
       "  </tbody>\n",
       "</table>\n",
       "</div>"
      ],
      "text/plain": [
       "     longitude  latitude  planting_year variety N_fertilizer P_fertilizer  \\\n",
       "3416   7.78896  10.26858         2015.0   COMP1          DAP          SSP   \n",
       "3417   7.78896  10.26858         2015.0   COMP1          DAP          SSP   \n",
       "3418   7.78896  10.26858         2015.0   COMP1          DAP          SSP   \n",
       "3419   7.78896  10.26858         2015.0   COMP1          DAP          SSP   \n",
       "3420   7.78896  10.26858         2015.0   COMP1          DAP          SSP   \n",
       "\n",
       "     K_fertilizer    yield  \n",
       "3416          0.0    458.4  \n",
       "3417          0.0  1197.68  \n",
       "3418          0.0  1248.24  \n",
       "3419         60.0  2854.53  \n",
       "3420         60.0  2649.84  "
      ]
     },
     "execution_count": 53,
     "metadata": {},
     "output_type": "execute_result"
    }
   ],
   "source": [
    "Feature_Selection3.dropna().head()"
   ]
  },
  {
   "cell_type": "code",
   "execution_count": 54,
   "id": "82456271-c28e-4cc8-8472-8fe6be371f96",
   "metadata": {},
   "outputs": [
    {
     "data": {
      "text/plain": [
       "(2327, 8)"
      ]
     },
     "execution_count": 54,
     "metadata": {},
     "output_type": "execute_result"
    }
   ],
   "source": [
    "Feature_Selection3.shape"
   ]
  },
  {
   "cell_type": "markdown",
   "id": "abc4d55e-b84e-4295-8fda-cd2ae45169c4",
   "metadata": {},
   "source": [
    "## Concatenate data with weather variables"
   ]
  },
  {
   "cell_type": "code",
   "execution_count": 55,
   "id": "126cbff9-30a8-4edd-a9ec-7701af605d12",
   "metadata": {},
   "outputs": [],
   "source": [
    "#Load weather data\n",
    "weather = pd.read_csv(\"weather_data.csv\", delimiter=\",\", encoding=\"ISO-8859-1\", header=0)"
   ]
  },
  {
   "cell_type": "code",
   "execution_count": 56,
   "id": "d7aff9fd-ccf1-47b5-ba0d-b1046e535164",
   "metadata": {},
   "outputs": [
    {
     "data": {
      "text/plain": [
       "(2327, 6)"
      ]
     },
     "execution_count": 56,
     "metadata": {},
     "output_type": "execute_result"
    }
   ],
   "source": [
    "weather.shape"
   ]
  },
  {
   "cell_type": "code",
   "execution_count": 57,
   "id": "4eaed455-52c6-4519-b0b3-2cfed733bfc2",
   "metadata": {},
   "outputs": [
    {
     "data": {
      "text/html": [
       "<div>\n",
       "<style scoped>\n",
       "    .dataframe tbody tr th:only-of-type {\n",
       "        vertical-align: middle;\n",
       "    }\n",
       "\n",
       "    .dataframe tbody tr th {\n",
       "        vertical-align: top;\n",
       "    }\n",
       "\n",
       "    .dataframe thead th {\n",
       "        text-align: right;\n",
       "    }\n",
       "</style>\n",
       "<table border=\"1\" class=\"dataframe\">\n",
       "  <thead>\n",
       "    <tr style=\"text-align: right;\">\n",
       "      <th></th>\n",
       "      <th>id</th>\n",
       "      <th>longitude</th>\n",
       "      <th>latitude</th>\n",
       "      <th>planting_year</th>\n",
       "      <th>Avg_Annual_Rainfall</th>\n",
       "      <th>Avg_Annual_Temp</th>\n",
       "    </tr>\n",
       "  </thead>\n",
       "  <tbody>\n",
       "    <tr>\n",
       "      <th>0</th>\n",
       "      <td>3416</td>\n",
       "      <td>7.78896</td>\n",
       "      <td>10.26858</td>\n",
       "      <td>2015</td>\n",
       "      <td>2158</td>\n",
       "      <td>25.33</td>\n",
       "    </tr>\n",
       "    <tr>\n",
       "      <th>1</th>\n",
       "      <td>3417</td>\n",
       "      <td>7.78896</td>\n",
       "      <td>10.26858</td>\n",
       "      <td>2015</td>\n",
       "      <td>2158</td>\n",
       "      <td>25.33</td>\n",
       "    </tr>\n",
       "    <tr>\n",
       "      <th>2</th>\n",
       "      <td>3418</td>\n",
       "      <td>7.78896</td>\n",
       "      <td>10.26858</td>\n",
       "      <td>2015</td>\n",
       "      <td>2158</td>\n",
       "      <td>25.33</td>\n",
       "    </tr>\n",
       "    <tr>\n",
       "      <th>3</th>\n",
       "      <td>3419</td>\n",
       "      <td>7.78896</td>\n",
       "      <td>10.26858</td>\n",
       "      <td>2015</td>\n",
       "      <td>2158</td>\n",
       "      <td>25.33</td>\n",
       "    </tr>\n",
       "    <tr>\n",
       "      <th>4</th>\n",
       "      <td>3420</td>\n",
       "      <td>7.78896</td>\n",
       "      <td>10.26858</td>\n",
       "      <td>2015</td>\n",
       "      <td>2158</td>\n",
       "      <td>25.33</td>\n",
       "    </tr>\n",
       "  </tbody>\n",
       "</table>\n",
       "</div>"
      ],
      "text/plain": [
       "     id  longitude  latitude  planting_year  Avg_Annual_Rainfall  \\\n",
       "0  3416    7.78896  10.26858           2015                 2158   \n",
       "1  3417    7.78896  10.26858           2015                 2158   \n",
       "2  3418    7.78896  10.26858           2015                 2158   \n",
       "3  3419    7.78896  10.26858           2015                 2158   \n",
       "4  3420    7.78896  10.26858           2015                 2158   \n",
       "\n",
       "   Avg_Annual_Temp  \n",
       "0            25.33  \n",
       "1            25.33  \n",
       "2            25.33  \n",
       "3            25.33  \n",
       "4            25.33  "
      ]
     },
     "execution_count": 57,
     "metadata": {},
     "output_type": "execute_result"
    }
   ],
   "source": [
    "weather.head()"
   ]
  },
  {
   "cell_type": "code",
   "execution_count": 58,
   "id": "36776da1-dfcb-4401-b313-ee5fd2d13323",
   "metadata": {},
   "outputs": [
    {
     "data": {
      "text/plain": [
       "(2327, 8)"
      ]
     },
     "execution_count": 58,
     "metadata": {},
     "output_type": "execute_result"
    }
   ],
   "source": [
    "Feature_Selection3.shape"
   ]
  },
  {
   "cell_type": "code",
   "execution_count": 59,
   "id": "cf37c6fa-2978-4e67-af37-0feea85eff8e",
   "metadata": {},
   "outputs": [
    {
     "data": {
      "text/html": [
       "<div>\n",
       "<style scoped>\n",
       "    .dataframe tbody tr th:only-of-type {\n",
       "        vertical-align: middle;\n",
       "    }\n",
       "\n",
       "    .dataframe tbody tr th {\n",
       "        vertical-align: top;\n",
       "    }\n",
       "\n",
       "    .dataframe thead th {\n",
       "        text-align: right;\n",
       "    }\n",
       "</style>\n",
       "<table border=\"1\" class=\"dataframe\">\n",
       "  <thead>\n",
       "    <tr style=\"text-align: right;\">\n",
       "      <th></th>\n",
       "      <th>longitude</th>\n",
       "      <th>latitude</th>\n",
       "      <th>planting_year</th>\n",
       "      <th>variety</th>\n",
       "      <th>N_fertilizer</th>\n",
       "      <th>P_fertilizer</th>\n",
       "      <th>K_fertilizer</th>\n",
       "      <th>yield</th>\n",
       "    </tr>\n",
       "  </thead>\n",
       "  <tbody>\n",
       "    <tr>\n",
       "      <th>3416</th>\n",
       "      <td>7.78896</td>\n",
       "      <td>10.26858</td>\n",
       "      <td>2015.0</td>\n",
       "      <td>COMP1</td>\n",
       "      <td>DAP</td>\n",
       "      <td>SSP</td>\n",
       "      <td>0.0</td>\n",
       "      <td>458.4</td>\n",
       "    </tr>\n",
       "    <tr>\n",
       "      <th>3417</th>\n",
       "      <td>7.78896</td>\n",
       "      <td>10.26858</td>\n",
       "      <td>2015.0</td>\n",
       "      <td>COMP1</td>\n",
       "      <td>DAP</td>\n",
       "      <td>SSP</td>\n",
       "      <td>0.0</td>\n",
       "      <td>1197.68</td>\n",
       "    </tr>\n",
       "    <tr>\n",
       "      <th>3418</th>\n",
       "      <td>7.78896</td>\n",
       "      <td>10.26858</td>\n",
       "      <td>2015.0</td>\n",
       "      <td>COMP1</td>\n",
       "      <td>DAP</td>\n",
       "      <td>SSP</td>\n",
       "      <td>0.0</td>\n",
       "      <td>1248.24</td>\n",
       "    </tr>\n",
       "    <tr>\n",
       "      <th>3419</th>\n",
       "      <td>7.78896</td>\n",
       "      <td>10.26858</td>\n",
       "      <td>2015.0</td>\n",
       "      <td>COMP1</td>\n",
       "      <td>DAP</td>\n",
       "      <td>SSP</td>\n",
       "      <td>60.0</td>\n",
       "      <td>2854.53</td>\n",
       "    </tr>\n",
       "    <tr>\n",
       "      <th>3420</th>\n",
       "      <td>7.78896</td>\n",
       "      <td>10.26858</td>\n",
       "      <td>2015.0</td>\n",
       "      <td>COMP1</td>\n",
       "      <td>DAP</td>\n",
       "      <td>SSP</td>\n",
       "      <td>60.0</td>\n",
       "      <td>2649.84</td>\n",
       "    </tr>\n",
       "  </tbody>\n",
       "</table>\n",
       "</div>"
      ],
      "text/plain": [
       "     longitude  latitude  planting_year variety N_fertilizer P_fertilizer  \\\n",
       "3416   7.78896  10.26858         2015.0   COMP1          DAP          SSP   \n",
       "3417   7.78896  10.26858         2015.0   COMP1          DAP          SSP   \n",
       "3418   7.78896  10.26858         2015.0   COMP1          DAP          SSP   \n",
       "3419   7.78896  10.26858         2015.0   COMP1          DAP          SSP   \n",
       "3420   7.78896  10.26858         2015.0   COMP1          DAP          SSP   \n",
       "\n",
       "     K_fertilizer    yield  \n",
       "3416          0.0    458.4  \n",
       "3417          0.0  1197.68  \n",
       "3418          0.0  1248.24  \n",
       "3419         60.0  2854.53  \n",
       "3420         60.0  2649.84  "
      ]
     },
     "execution_count": 59,
     "metadata": {},
     "output_type": "execute_result"
    }
   ],
   "source": [
    "Feature_Selection3.head()"
   ]
  },
  {
   "cell_type": "markdown",
   "id": "2c78c47f-a063-40b8-b294-4b21fe066e15",
   "metadata": {},
   "source": [
    "The have similar IDs and row. They will therefore be concatenatd"
   ]
  },
  {
   "cell_type": "code",
   "execution_count": 60,
   "id": "b44384ec-8cda-412d-aeff-7754abaa9737",
   "metadata": {},
   "outputs": [],
   "source": [
    "Feature_Selection3['Avg_Annual_Rainfall'] = weather['Avg_Annual_Rainfall'].values.tolist()\n",
    "Feature_Selection3['Avg_Annual_Temp'] = weather['Avg_Annual_Temp'].values.tolist()"
   ]
  },
  {
   "cell_type": "code",
   "execution_count": 61,
   "id": "77bb055f-b568-4bc7-92de-650418c86a16",
   "metadata": {},
   "outputs": [],
   "source": [
    "#Feature_Selection3.head()"
   ]
  },
  {
   "cell_type": "code",
   "execution_count": 62,
   "id": "c97f0d7e-a6fd-4053-990e-1c740bf39a93",
   "metadata": {},
   "outputs": [],
   "source": [
    "#Re-organize columns\n",
    "Feature_Selection3 = Feature_Selection3.loc[:,['longitude','latitude','planting_year','variety','N_fertilizer','P_fertilizer','K_fertilizer','Avg_Annual_Rainfall','Avg_Annual_Temp','yield']]"
   ]
  },
  {
   "cell_type": "code",
   "execution_count": 63,
   "id": "02fecc02-8e2b-4484-ba42-64e78393ea7f",
   "metadata": {},
   "outputs": [
    {
     "data": {
      "text/html": [
       "<div>\n",
       "<style scoped>\n",
       "    .dataframe tbody tr th:only-of-type {\n",
       "        vertical-align: middle;\n",
       "    }\n",
       "\n",
       "    .dataframe tbody tr th {\n",
       "        vertical-align: top;\n",
       "    }\n",
       "\n",
       "    .dataframe thead th {\n",
       "        text-align: right;\n",
       "    }\n",
       "</style>\n",
       "<table border=\"1\" class=\"dataframe\">\n",
       "  <thead>\n",
       "    <tr style=\"text-align: right;\">\n",
       "      <th></th>\n",
       "      <th>longitude</th>\n",
       "      <th>latitude</th>\n",
       "      <th>planting_year</th>\n",
       "      <th>variety</th>\n",
       "      <th>N_fertilizer</th>\n",
       "      <th>P_fertilizer</th>\n",
       "      <th>K_fertilizer</th>\n",
       "      <th>Avg_Annual_Rainfall</th>\n",
       "      <th>Avg_Annual_Temp</th>\n",
       "      <th>yield</th>\n",
       "    </tr>\n",
       "  </thead>\n",
       "  <tbody>\n",
       "    <tr>\n",
       "      <th>3416</th>\n",
       "      <td>7.78896</td>\n",
       "      <td>10.26858</td>\n",
       "      <td>2015.0</td>\n",
       "      <td>COMP1</td>\n",
       "      <td>DAP</td>\n",
       "      <td>SSP</td>\n",
       "      <td>0.0</td>\n",
       "      <td>2158</td>\n",
       "      <td>25.33</td>\n",
       "      <td>458.4</td>\n",
       "    </tr>\n",
       "    <tr>\n",
       "      <th>3417</th>\n",
       "      <td>7.78896</td>\n",
       "      <td>10.26858</td>\n",
       "      <td>2015.0</td>\n",
       "      <td>COMP1</td>\n",
       "      <td>DAP</td>\n",
       "      <td>SSP</td>\n",
       "      <td>0.0</td>\n",
       "      <td>2158</td>\n",
       "      <td>25.33</td>\n",
       "      <td>1197.68</td>\n",
       "    </tr>\n",
       "    <tr>\n",
       "      <th>3418</th>\n",
       "      <td>7.78896</td>\n",
       "      <td>10.26858</td>\n",
       "      <td>2015.0</td>\n",
       "      <td>COMP1</td>\n",
       "      <td>DAP</td>\n",
       "      <td>SSP</td>\n",
       "      <td>0.0</td>\n",
       "      <td>2158</td>\n",
       "      <td>25.33</td>\n",
       "      <td>1248.24</td>\n",
       "    </tr>\n",
       "    <tr>\n",
       "      <th>3419</th>\n",
       "      <td>7.78896</td>\n",
       "      <td>10.26858</td>\n",
       "      <td>2015.0</td>\n",
       "      <td>COMP1</td>\n",
       "      <td>DAP</td>\n",
       "      <td>SSP</td>\n",
       "      <td>60.0</td>\n",
       "      <td>2158</td>\n",
       "      <td>25.33</td>\n",
       "      <td>2854.53</td>\n",
       "    </tr>\n",
       "    <tr>\n",
       "      <th>3420</th>\n",
       "      <td>7.78896</td>\n",
       "      <td>10.26858</td>\n",
       "      <td>2015.0</td>\n",
       "      <td>COMP1</td>\n",
       "      <td>DAP</td>\n",
       "      <td>SSP</td>\n",
       "      <td>60.0</td>\n",
       "      <td>2158</td>\n",
       "      <td>25.33</td>\n",
       "      <td>2649.84</td>\n",
       "    </tr>\n",
       "  </tbody>\n",
       "</table>\n",
       "</div>"
      ],
      "text/plain": [
       "     longitude  latitude  planting_year variety N_fertilizer P_fertilizer  \\\n",
       "3416   7.78896  10.26858         2015.0   COMP1          DAP          SSP   \n",
       "3417   7.78896  10.26858         2015.0   COMP1          DAP          SSP   \n",
       "3418   7.78896  10.26858         2015.0   COMP1          DAP          SSP   \n",
       "3419   7.78896  10.26858         2015.0   COMP1          DAP          SSP   \n",
       "3420   7.78896  10.26858         2015.0   COMP1          DAP          SSP   \n",
       "\n",
       "     K_fertilizer  Avg_Annual_Rainfall  Avg_Annual_Temp    yield  \n",
       "3416          0.0                 2158            25.33    458.4  \n",
       "3417          0.0                 2158            25.33  1197.68  \n",
       "3418          0.0                 2158            25.33  1248.24  \n",
       "3419         60.0                 2158            25.33  2854.53  \n",
       "3420         60.0                 2158            25.33  2649.84  "
      ]
     },
     "execution_count": 63,
     "metadata": {},
     "output_type": "execute_result"
    }
   ],
   "source": [
    "Feature_Selection3.head()"
   ]
  },
  {
   "cell_type": "markdown",
   "id": "65b028d2-1bc1-463d-872a-5678f742af82",
   "metadata": {},
   "source": [
    "### Randomize and save the data for further analytics and machine learning modeling"
   ]
  },
  {
   "cell_type": "code",
   "execution_count": 64,
   "id": "41f87750-7510-4a14-95f6-1de54bd61ddf",
   "metadata": {},
   "outputs": [],
   "source": [
    "Feature_Selection3 = Feature_Selection3.sample(frac = 1) #Randomize\n",
    "Feature_Selection3.to_csv(\"data_features_selected.csv\") #Save to CSV"
   ]
  },
  {
   "cell_type": "code",
   "execution_count": 65,
   "id": "ce3b0e9f-3d90-4789-af83-6ca16e3881b0",
   "metadata": {},
   "outputs": [
    {
     "data": {
      "text/html": [
       "<div>\n",
       "<style scoped>\n",
       "    .dataframe tbody tr th:only-of-type {\n",
       "        vertical-align: middle;\n",
       "    }\n",
       "\n",
       "    .dataframe tbody tr th {\n",
       "        vertical-align: top;\n",
       "    }\n",
       "\n",
       "    .dataframe thead th {\n",
       "        text-align: right;\n",
       "    }\n",
       "</style>\n",
       "<table border=\"1\" class=\"dataframe\">\n",
       "  <thead>\n",
       "    <tr style=\"text-align: right;\">\n",
       "      <th></th>\n",
       "      <th>longitude</th>\n",
       "      <th>latitude</th>\n",
       "      <th>planting_year</th>\n",
       "      <th>variety</th>\n",
       "      <th>N_fertilizer</th>\n",
       "      <th>P_fertilizer</th>\n",
       "      <th>K_fertilizer</th>\n",
       "      <th>Avg_Annual_Rainfall</th>\n",
       "      <th>Avg_Annual_Temp</th>\n",
       "      <th>yield</th>\n",
       "    </tr>\n",
       "  </thead>\n",
       "  <tbody>\n",
       "    <tr>\n",
       "      <th>48108</th>\n",
       "      <td>7.435986</td>\n",
       "      <td>10.518290</td>\n",
       "      <td>2017.0</td>\n",
       "      <td>Sammaz 15</td>\n",
       "      <td>11.0</td>\n",
       "      <td>9.170306</td>\n",
       "      <td>18.255746</td>\n",
       "      <td>1242</td>\n",
       "      <td>26.29</td>\n",
       "      <td>1732.0</td>\n",
       "    </tr>\n",
       "    <tr>\n",
       "      <th>46026</th>\n",
       "      <td>8.551623</td>\n",
       "      <td>9.391552</td>\n",
       "      <td>2017.0</td>\n",
       "      <td>Sammaz 15</td>\n",
       "      <td>62.5</td>\n",
       "      <td>13.755459</td>\n",
       "      <td>27.38362</td>\n",
       "      <td>1430</td>\n",
       "      <td>26.30</td>\n",
       "      <td>6185.0</td>\n",
       "    </tr>\n",
       "    <tr>\n",
       "      <th>3547</th>\n",
       "      <td>7.78896</td>\n",
       "      <td>10.268580</td>\n",
       "      <td>2015.0</td>\n",
       "      <td>COMP1</td>\n",
       "      <td>DAP</td>\n",
       "      <td>SSP</td>\n",
       "      <td>0.0</td>\n",
       "      <td>2158</td>\n",
       "      <td>25.33</td>\n",
       "      <td>804.75</td>\n",
       "    </tr>\n",
       "    <tr>\n",
       "      <th>46462</th>\n",
       "      <td>9.958856</td>\n",
       "      <td>8.536641</td>\n",
       "      <td>2017.0</td>\n",
       "      <td>Sammaz 15</td>\n",
       "      <td>67.0</td>\n",
       "      <td>20.305677</td>\n",
       "      <td>0.0</td>\n",
       "      <td>1197</td>\n",
       "      <td>28.27</td>\n",
       "      <td>3043.0</td>\n",
       "    </tr>\n",
       "    <tr>\n",
       "      <th>3506</th>\n",
       "      <td>7.78896</td>\n",
       "      <td>10.268580</td>\n",
       "      <td>2016.0</td>\n",
       "      <td>IWD</td>\n",
       "      <td>DAP</td>\n",
       "      <td>SSP</td>\n",
       "      <td>60.0</td>\n",
       "      <td>2892</td>\n",
       "      <td>25.78</td>\n",
       "      <td>2717.87</td>\n",
       "    </tr>\n",
       "  </tbody>\n",
       "</table>\n",
       "</div>"
      ],
      "text/plain": [
       "      longitude   latitude  planting_year    variety N_fertilizer  \\\n",
       "48108  7.435986  10.518290         2017.0  Sammaz 15         11.0   \n",
       "46026  8.551623   9.391552         2017.0  Sammaz 15         62.5   \n",
       "3547    7.78896  10.268580         2015.0      COMP1          DAP   \n",
       "46462  9.958856   8.536641         2017.0  Sammaz 15         67.0   \n",
       "3506    7.78896  10.268580         2016.0        IWD          DAP   \n",
       "\n",
       "      P_fertilizer K_fertilizer  Avg_Annual_Rainfall  Avg_Annual_Temp    yield  \n",
       "48108     9.170306    18.255746                 1242            26.29   1732.0  \n",
       "46026    13.755459     27.38362                 1430            26.30   6185.0  \n",
       "3547           SSP          0.0                 2158            25.33   804.75  \n",
       "46462    20.305677          0.0                 1197            28.27   3043.0  \n",
       "3506           SSP         60.0                 2892            25.78  2717.87  "
      ]
     },
     "execution_count": 65,
     "metadata": {},
     "output_type": "execute_result"
    }
   ],
   "source": [
    "Feature_Selection3.head()"
   ]
  }
 ],
 "metadata": {
  "kernelspec": {
   "display_name": "Python 3 (ipykernel)",
   "language": "python",
   "name": "python3"
  },
  "language_info": {
   "codemirror_mode": {
    "name": "ipython",
    "version": 3
   },
   "file_extension": ".py",
   "mimetype": "text/x-python",
   "name": "python",
   "nbconvert_exporter": "python",
   "pygments_lexer": "ipython3",
   "version": "3.11.5"
  }
 },
 "nbformat": 4,
 "nbformat_minor": 5
}
