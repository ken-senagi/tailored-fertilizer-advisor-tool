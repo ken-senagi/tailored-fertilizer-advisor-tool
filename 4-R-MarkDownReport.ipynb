{
 "cells": [
  {
   "cell_type": "markdown",
   "metadata": {
    "button": false,
    "new_sheet": false,
    "run_control": {
     "read_only": false
    }
   },
   "source": [
    "<h1 align=center><font size = 5>REPORT</font></h1>\n",
    "<h1 align=center><font size = 5>A Tailored Intelligent Fertilizer Advicory Tool for Nigeria Maize Growers </font></h1>\n",
    "\n",
    "## Objectives\n",
    "* Use data analysis and data science tools and techniques to derive meaningful insights from the fertilizer dataset\n",
    "* To develop tailored intelligent fertilizer advice for Nigeria maize growers using machine learning models:"
   ]
  },
  {
   "cell_type": "markdown",
   "metadata": {},
   "source": [
    "<h1>Content</h1>\n",
    "\n",
    "<div class=\"alert alert-block alert-info\" style=\"margin-top: 20px\">\n",
    "    <ol>\n",
    "        <li><a href=\"#analytical_workflow\">The analytical workflow</a></li>\n",
    "        <li><a href=\"#data_exploration\">Data exploration</a></li>\n",
    "        <li><a href=\"#feature_selection\">Feature selection</a></li>   \n",
    "        <li><a href=\"#weather_variables\">Weather variables</a></li>\n",
    "        <li><a href=\"#npk_weather_variables\">Summary of aggregated NPK, weather and yield variables</a></li>\n",
    "        <li><a href=\"#correlation_analysis\">Correlation analysis</a></li>  \n",
    "        <li><a href=\"#machine_learning\">Machine learning modeling</a></li> \n",
    "        <li><a href=\"#threshold_mapping\">Threshold mapping of maize production</a></li>\n",
    "        <li><a href=\"#modeling\">Data assessment and gap analysis</a></li>\n",
    "        <li><a href=\"#feature_importance\">Feature importance analysis</a></li>\n",
    "        <li><a href=\"#threshold_mapping\">Threshold geo-mapping of maize production</a></li>\n",
    "        <li><a href=\"#Intelligent\">The intelligent tool: a summary</a></li>\n",
    "    </ol>\n",
    "</div>\n",
    "<br>\n",
    "<hr>\n"
   ]
  },
  {
   "cell_type": "markdown",
   "metadata": {
    "button": false,
    "new_sheet": false,
    "run_control": {
     "read_only": false
    }
   },
   "source": [
    "<a id=\"analytical_workflow\"></a>\n",
    "\n",
    "# 1. The analytical workflow\n",
    "\n",
    "The figure below shows the analytics workflow"
   ]
  },
  {
   "cell_type": "markdown",
   "metadata": {},
   "source": [
    "<img src=\"imgs/workflow.png\">\n",
    "<strong>Figure 1:</strong> The analytics work-flow"
   ]
  },
  {
   "cell_type": "markdown",
   "metadata": {},
   "source": [
    "<a id=\"data_exploration\"></a>\n",
    "\n",
    "### Data exploration"
   ]
  },
  {
   "cell_type": "markdown",
   "metadata": {},
   "source": [
    "<strong>a) Common crops grown in Nigeria</strong>\n",
    "\n",
    "As show in tWe explored the data and found out that Cassava most commonly grown crop followed by Soyabeans then Maize."
   ]
  },
  {
   "cell_type": "markdown",
   "metadata": {},
   "source": [
    "<img src=\"imgs/crops_nigeria.png\" height=\"600\" width=\"600\">\n",
    "<strong>Figure 2:</strong> Crops grown in Nigeria"
   ]
  },
  {
   "cell_type": "markdown",
   "metadata": {},
   "source": []
  },
  {
   "cell_type": "markdown",
   "metadata": {},
   "source": [
    "<strong>b) Spatial distribution of trail farms in Nigeria</strong>\n",
    "\n",
    "Figure 2 shown the spatial disribution of trial farms in Nigeria. We note that most of the farms are concentrated in the middle of the norther region."
   ]
  },
  {
   "cell_type": "markdown",
   "metadata": {},
   "source": [
    "<img src=\"imgs/trial_farms_in_nigeria.png\" height=\"500\" width=\"500\">\n",
    "<strong>Figure 3:</strong> Spatial distribution of trail farms in Nigeria"
   ]
  },
  {
   "cell_type": "markdown",
   "metadata": {},
   "source": [
    "<a id=\"feature_selection\"></a>\n",
    "\n",
    "### Feature selection"
   ]
  },
  {
   "cell_type": "markdown",
   "metadata": {},
   "source": [
    "Before data cleaning, there were 6322 number of records from Nigeria with maize as a farmed crop. Most of the variables had missing values. We therefore setteled on the main variables (i.e., nitrogen, phosphorous and potassium) to advice maize growers in Nigeria. After removing missing values and the other redundanct variables, we remained with 2111 number of records."
   ]
  },
  {
   "cell_type": "markdown",
   "metadata": {},
   "source": [
    "<a id=\"weather_variables\"></a>\n",
    "\n",
    "### Weather Variables"
   ]
  },
  {
   "cell_type": "markdown",
   "metadata": {},
   "source": [
    "From our reading, in these articles (<a href=\"https://doi.org/10.1111/rssa.12709\">article1</a> and <a href=\"https://doi.org/10.1016/j.agrformet.2019.107898\">article2</a>), we note that temerature and rainfall weather conditions highly affected NPK. We therefore settled on these variables in this work. Using geo-loaction (longitute and latitute) information in the dataset, rainfll and tempretaure weather variables were extracted from (1982 to 2018) using google earth engine. We appended the annual average rainfall and average temperature onto the dataset."
   ]
  },
  {
   "cell_type": "markdown",
   "metadata": {},
   "source": [
    "<a id=\"npk_weather_variables\"></a>\n",
    "\n",
    "### Summary of aggregated NPK, weather, and yield variables"
   ]
  },
  {
   "cell_type": "markdown",
   "metadata": {},
   "source": [
    "The histrograms illustrated in Figures 4, 5, 6, 7, and 8 show the distribution of nitrogen, phosphorous, potassium, temperature, rainfall and yield distribution in the trial maize regions in Nigeria"
   ]
  },
  {
   "cell_type": "markdown",
   "metadata": {},
   "source": [
    "<img src=\"imgs/dist_N.png\" height=\"400\" width=\"400\">\n",
    "<strong>Figure 4:</strong> A histogram illustrating the distribuition of nitrogen"
   ]
  },
  {
   "cell_type": "code",
   "execution_count": null,
   "metadata": {},
   "outputs": [],
   "source": []
  },
  {
   "cell_type": "markdown",
   "metadata": {},
   "source": [
    "<img src=\"imgs/dist_P.png\" height=\"400\" width=\"400\">\n",
    "<strong>Figure 5:</strong> A histogram illustrating the distribuition of phosphorous"
   ]
  },
  {
   "cell_type": "code",
   "execution_count": null,
   "metadata": {},
   "outputs": [],
   "source": []
  },
  {
   "cell_type": "markdown",
   "metadata": {},
   "source": [
    "<img src=\"imgs/dist_K.png\" height=\"400\" width=\"400\">\n",
    "<strong>Figure 6:</strong> A histogram illustrating the distribuition of potassium"
   ]
  },
  {
   "cell_type": "code",
   "execution_count": null,
   "metadata": {},
   "outputs": [],
   "source": []
  },
  {
   "cell_type": "markdown",
   "metadata": {},
   "source": [
    "<img src=\"imgs/dist_rain.png\" height=\"400\" width=\"400\">\n",
    "<strong>Figure 7:</strong> A histogram illustrating the distribuition of annual rainfall in the trial regions from 1982 to 2018"
   ]
  },
  {
   "cell_type": "code",
   "execution_count": null,
   "metadata": {},
   "outputs": [],
   "source": []
  },
  {
   "cell_type": "markdown",
   "metadata": {},
   "source": [
    "<img src=\"imgs/dist_temp.png\" height=\"400\" width=\"400\">\n",
    "<strong>Figure 7:</strong> A histogram showing the distribuition of annual temperature in the trial regions from 1982 to 2018"
   ]
  },
  {
   "cell_type": "code",
   "execution_count": null,
   "metadata": {},
   "outputs": [],
   "source": []
  },
  {
   "cell_type": "markdown",
   "metadata": {},
   "source": [
    "<img src=\"imgs/dist_yield.png\" height=\"400\" width=\"400\">\n",
    "<strong>Figure 8:</strong> A histogram showing the distribuition of maize yield in the trial regions from 1982 to 2017"
   ]
  },
  {
   "cell_type": "code",
   "execution_count": null,
   "metadata": {},
   "outputs": [],
   "source": []
  },
  {
   "cell_type": "markdown",
   "metadata": {},
   "source": [
    "<a id=\"correlation_analysis\"></a>\n",
    "\n",
    "### Correlation Analysis"
   ]
  },
  {
   "cell_type": "markdown",
   "metadata": {},
   "source": [
    "Figure 9 shows the correlation of the selected varibales. Looking at the yield, we note that the increase in nitrogen, phosphorous and potassium, in that order, lead to higher (increase) production of maize. While increase/decrease in rainfall had a no much effect on maize production."
   ]
  },
  {
   "cell_type": "markdown",
   "metadata": {},
   "source": [
    "<img src=\"imgs/corr.png\" height=\"400\" width=\"400\">\n",
    "<strong>Figure 9:</strong> Correlation of selected variables"
   ]
  },
  {
   "cell_type": "code",
   "execution_count": null,
   "metadata": {},
   "outputs": [],
   "source": []
  },
  {
   "cell_type": "markdown",
   "metadata": {},
   "source": [
    "<a id=\"machine_learning\"></a>\n",
    "\n",
    "### Machine learning modelling"
   ]
  },
  {
   "cell_type": "markdown",
   "metadata": {},
   "source": [
    "The data was normaized (using min-max scaler). It was then split into train and test datasets at 20% and 80% respectively. This work was interested in advising maize growers of potential maize production considering fertilizer and weather variables. Therefore, in machine learning, the feature variables were nitrogen, phosphorous, potassium, average rainfall and temperature. While the target variable was maize yield. \n",
    "\n",
    "Since maize yield is a continous variable, this research selected common and high performace regressor machine learing models. The shallow machine learning models were random forest, decision trees, and support vector regressor models. While the deep feed forward neural network was selected; it had 4 layers that 100 neurons each, ReLU was used as the activation function in the inner layers, and Nadam was the opimizer with a learning rate of 0.001. Both R and Python programming languages were used to implement these learning algorithms.\n",
    "\n",
    "The algorithms were configured and evaluated using root mean square error (RMSE). RMSE was chosen since it gives the margin of the error (prediction), i.e., how close the algorithm was in predicting the true value. Figure 10 and 11 shows the performance scores of these algorithms. We note that all the algorithms had a fairly similar score. In the shallow machine learning category, random forest performed best. While in the deep learning category the feed forward deep learning mode whose hyperparameters were not highly (with early stopping and drop out) configured performed the best."
   ]
  },
  {
   "cell_type": "markdown",
   "metadata": {},
   "source": [
    "<img src=\"imgs/ML_shallow.png\" height=\"400\" width=\"400\">\n",
    "<strong>Figure 10:</strong> Shallow machine learning algorithms"
   ]
  },
  {
   "cell_type": "markdown",
   "metadata": {},
   "source": [
    "<img src=\"imgs/ML_deep.png\" height=\"500\" width=\"500\">\n",
    "<strong>Figure 11:</strong> Deep machine learning algorithms"
   ]
  },
  {
   "cell_type": "markdown",
   "metadata": {},
   "source": [
    "<a id=\"feature_importance\"></a>\n",
    "\n",
    "### Feature importance analysis"
   ]
  },
  {
   "cell_type": "markdown",
   "metadata": {},
   "source": [
    "Figure 12 shows the importance feature analysis that was derived from random forest which was the best performing algorithm. It is see that annual rainfall was the main driver (variable that had the highest effect) that affected the prduction of maize in the trial regions in Nigeria. It was the followed by nitroigen, annual temperature, and phosphorou respectively in that order.The lowest significant variable was potassium. This means for a good harvest, in an order of priority, farmers should focus on having appropriate rainfall, nitrogen (in the soil), temperature, and phosphorous (in the soil), and potassium."
   ]
  },
  {
   "cell_type": "markdown",
   "metadata": {},
   "source": [
    "<img src=\"imgs/feature_imp.png\" height=\"400\" width=\"400\">\n",
    "<strong>Figure 12:</strong> Feature importance analysis"
   ]
  },
  {
   "cell_type": "markdown",
   "metadata": {},
   "source": [
    "<a id=\"threshold_mapping\"></a>\n",
    "\n",
    "### Threshold geo-mapping of maize production"
   ]
  },
  {
   "cell_type": "markdown",
   "metadata": {},
   "source": [
    "A tentative configurable threshold of high and low yield was set (at 0.2 normalized scale of low and high production).\n",
    "\n",
    "Predicted test (uneen) data from the most optimal deep learning model was mapped and results are dispayed in Figure 13. "
   ]
  },
  {
   "cell_type": "markdown",
   "metadata": {},
   "source": [
    "<img src=\"imgs/farms.png\" height=\"400\" width=\"400\">\n",
    "<strong>Figure 13:</strong> Threshold mapping of maize yield"
   ]
  },
  {
   "cell_type": "code",
   "execution_count": null,
   "metadata": {},
   "outputs": [],
   "source": []
  },
  {
   "cell_type": "markdown",
   "metadata": {},
   "source": [
    "<a id=\"Intelligent\"></a>\n",
    "\n",
    "### The Intelligent Tool: A summary"
   ]
  },
  {
   "cell_type": "markdown",
   "metadata": {},
   "source": [
    "This intelligent tool can predict maize grower in Nigeria know the future production of maize given the fertilizer and weather variables"
   ]
  },
  {
   "cell_type": "code",
   "execution_count": null,
   "metadata": {},
   "outputs": [],
   "source": []
  }
 ],
 "metadata": {
  "kernelspec": {
   "display_name": "Python 3 (ipykernel)",
   "language": "python",
   "name": "python3"
  },
  "language_info": {
   "codemirror_mode": {
    "name": "ipython",
    "version": 3
   },
   "file_extension": ".py",
   "mimetype": "text/x-python",
   "name": "python",
   "nbconvert_exporter": "python",
   "pygments_lexer": "ipython3",
   "version": "3.11.5"
  },
  "widgets": {
   "state": {},
   "version": "1.1.2"
  }
 },
 "nbformat": 4,
 "nbformat_minor": 4
}
