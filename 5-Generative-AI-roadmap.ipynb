{
 "cells": [
  {
   "cell_type": "markdown",
   "metadata": {
    "button": false,
    "new_sheet": false,
    "run_control": {
     "read_only": false
    }
   },
   "source": [
    "<h1 align=center><font size = 5>REPORT</font></h1>\n",
    "<h1 align=center><font size = 5>Generative AI Roadmap</font></h1>\n"
   ]
  },
  {
   "cell_type": "markdown",
   "metadata": {},
   "source": [
    "Generative AI (artificial intelligence) is uses artificial intelligence tools and techniques to generate text, images, videos, or other data.\n",
    "\n",
    "In this case, generative AI can be used applied to understand the underlying patterns of how weather and fertilzer affect maize production in Nigeria, then generate similar insights in regions (in or out of Nigeria) that have similar characteristics.\n",
    "\n",
    "Generative pre-trained models such as BERT, ChatGPT, etc. can be fine-tuned and considered in this task.\n",
    "\n",
    "Location (latitude and longitude) prompts can be passed to the system and it can inform user of potential production in those regions considering weather and fertilizer aspects.\n"
   ]
  },
  {
   "cell_type": "code",
   "execution_count": null,
   "metadata": {},
   "outputs": [],
   "source": []
  }
 ],
 "metadata": {
  "kernelspec": {
   "display_name": "Python 3 (ipykernel)",
   "language": "python",
   "name": "python3"
  },
  "language_info": {
   "codemirror_mode": {
    "name": "ipython",
    "version": 3
   },
   "file_extension": ".py",
   "mimetype": "text/x-python",
   "name": "python",
   "nbconvert_exporter": "python",
   "pygments_lexer": "ipython3",
   "version": "3.11.5"
  },
  "widgets": {
   "state": {},
   "version": "1.1.2"
  }
 },
 "nbformat": 4,
 "nbformat_minor": 4
}
